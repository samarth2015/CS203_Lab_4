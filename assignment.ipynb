{
  "cells": [
    {
      "cell_type": "markdown",
      "metadata": {
        "id": "view-in-github",
        "colab_type": "text"
      },
      "source": [
        "<a href=\"https://colab.research.google.com/github/samarth2015/CS203_Lab_4/blob/main/assignment.ipynb\" target=\"_parent\"><img src=\"https://colab.research.google.com/assets/colab-badge.svg\" alt=\"Open In Colab\"/></a>"
      ]
    },
    {
      "cell_type": "markdown",
      "metadata": {
        "id": "CzQ3ckPXfJHL"
      },
      "source": [
        "## Task 1: Setup the dataset"
      ]
    },
    {
      "cell_type": "markdown",
      "metadata": {
        "id": "YkOl9ndSfJHM"
      },
      "source": [
        "- Load the MNIST dataset using the Hugging Face datasets library.\n",
        "- Convert the image data into Numpy arrays and normalize pixel values to the range [0,1].\n",
        "- Flatten each image into a vector of 784 features.\n",
        "- Split the dataset into training and testing sets.\n",
        "- Randomly select an initially labeled dataset of 200 samples from training samples.\n",
        "- Generate an \"Unlabeled Pool,\" the Initial Dataset excluding 200 samples."
      ]
    },
    {
      "cell_type": "code",
      "execution_count": null,
      "metadata": {
        "colab": {
          "base_uri": "https://localhost:8080/"
        },
        "id": "zuafUmcnhJmM",
        "outputId": "3e4a0965-ec17-4e35-b64f-d4937df47794"
      },
      "outputs": [
        {
          "name": "stdout",
          "output_type": "stream",
          "text": [
            "Collecting datasets\n",
            "  Downloading datasets-3.2.0-py3-none-any.whl.metadata (20 kB)\n",
            "Requirement already satisfied: filelock in /usr/local/lib/python3.11/dist-packages (from datasets) (3.17.0)\n",
            "Requirement already satisfied: numpy>=1.17 in /usr/local/lib/python3.11/dist-packages (from datasets) (1.26.4)\n",
            "Requirement already satisfied: pyarrow>=15.0.0 in /usr/local/lib/python3.11/dist-packages (from datasets) (17.0.0)\n",
            "Collecting dill<0.3.9,>=0.3.0 (from datasets)\n",
            "  Downloading dill-0.3.8-py3-none-any.whl.metadata (10 kB)\n",
            "Requirement already satisfied: pandas in /usr/local/lib/python3.11/dist-packages (from datasets) (2.2.2)\n",
            "Requirement already satisfied: requests>=2.32.2 in /usr/local/lib/python3.11/dist-packages (from datasets) (2.32.3)\n",
            "Requirement already satisfied: tqdm>=4.66.3 in /usr/local/lib/python3.11/dist-packages (from datasets) (4.67.1)\n",
            "Collecting xxhash (from datasets)\n",
            "  Downloading xxhash-3.5.0-cp311-cp311-manylinux_2_17_x86_64.manylinux2014_x86_64.whl.metadata (12 kB)\n",
            "Collecting multiprocess<0.70.17 (from datasets)\n",
            "  Downloading multiprocess-0.70.16-py311-none-any.whl.metadata (7.2 kB)\n",
            "Collecting fsspec<=2024.9.0,>=2023.1.0 (from fsspec[http]<=2024.9.0,>=2023.1.0->datasets)\n",
            "  Downloading fsspec-2024.9.0-py3-none-any.whl.metadata (11 kB)\n",
            "Requirement already satisfied: aiohttp in /usr/local/lib/python3.11/dist-packages (from datasets) (3.11.11)\n",
            "Requirement already satisfied: huggingface-hub>=0.23.0 in /usr/local/lib/python3.11/dist-packages (from datasets) (0.27.1)\n",
            "Requirement already satisfied: packaging in /usr/local/lib/python3.11/dist-packages (from datasets) (24.2)\n",
            "Requirement already satisfied: pyyaml>=5.1 in /usr/local/lib/python3.11/dist-packages (from datasets) (6.0.2)\n",
            "Requirement already satisfied: aiohappyeyeballs>=2.3.0 in /usr/local/lib/python3.11/dist-packages (from aiohttp->datasets) (2.4.4)\n",
            "Requirement already satisfied: aiosignal>=1.1.2 in /usr/local/lib/python3.11/dist-packages (from aiohttp->datasets) (1.3.2)\n",
            "Requirement already satisfied: attrs>=17.3.0 in /usr/local/lib/python3.11/dist-packages (from aiohttp->datasets) (25.1.0)\n",
            "Requirement already satisfied: frozenlist>=1.1.1 in /usr/local/lib/python3.11/dist-packages (from aiohttp->datasets) (1.5.0)\n",
            "Requirement already satisfied: multidict<7.0,>=4.5 in /usr/local/lib/python3.11/dist-packages (from aiohttp->datasets) (6.1.0)\n",
            "Requirement already satisfied: propcache>=0.2.0 in /usr/local/lib/python3.11/dist-packages (from aiohttp->datasets) (0.2.1)\n",
            "Requirement already satisfied: yarl<2.0,>=1.17.0 in /usr/local/lib/python3.11/dist-packages (from aiohttp->datasets) (1.18.3)\n",
            "Requirement already satisfied: typing-extensions>=3.7.4.3 in /usr/local/lib/python3.11/dist-packages (from huggingface-hub>=0.23.0->datasets) (4.12.2)\n",
            "Requirement already satisfied: charset-normalizer<4,>=2 in /usr/local/lib/python3.11/dist-packages (from requests>=2.32.2->datasets) (3.4.1)\n",
            "Requirement already satisfied: idna<4,>=2.5 in /usr/local/lib/python3.11/dist-packages (from requests>=2.32.2->datasets) (3.10)\n",
            "Requirement already satisfied: urllib3<3,>=1.21.1 in /usr/local/lib/python3.11/dist-packages (from requests>=2.32.2->datasets) (2.3.0)\n",
            "Requirement already satisfied: certifi>=2017.4.17 in /usr/local/lib/python3.11/dist-packages (from requests>=2.32.2->datasets) (2024.12.14)\n",
            "Requirement already satisfied: python-dateutil>=2.8.2 in /usr/local/lib/python3.11/dist-packages (from pandas->datasets) (2.8.2)\n",
            "Requirement already satisfied: pytz>=2020.1 in /usr/local/lib/python3.11/dist-packages (from pandas->datasets) (2024.2)\n",
            "Requirement already satisfied: tzdata>=2022.7 in /usr/local/lib/python3.11/dist-packages (from pandas->datasets) (2025.1)\n",
            "Requirement already satisfied: six>=1.5 in /usr/local/lib/python3.11/dist-packages (from python-dateutil>=2.8.2->pandas->datasets) (1.17.0)\n",
            "Downloading datasets-3.2.0-py3-none-any.whl (480 kB)\n",
            "\u001b[2K   \u001b[90m━━━━━━━━━━━━━━━━━━━━━━━━━━━━━━━━━━━━━━━━\u001b[0m \u001b[32m480.6/480.6 kB\u001b[0m \u001b[31m3.9 MB/s\u001b[0m eta \u001b[36m0:00:00\u001b[0m\n",
            "\u001b[?25hDownloading dill-0.3.8-py3-none-any.whl (116 kB)\n",
            "\u001b[2K   \u001b[90m━━━━━━━━━━━━━━━━━━━━━━━━━━━━━━━━━━━━━━━━\u001b[0m \u001b[32m116.3/116.3 kB\u001b[0m \u001b[31m4.4 MB/s\u001b[0m eta \u001b[36m0:00:00\u001b[0m\n",
            "\u001b[?25hDownloading fsspec-2024.9.0-py3-none-any.whl (179 kB)\n",
            "\u001b[2K   \u001b[90m━━━━━━━━━━━━━━━━━━━━━━━━━━━━━━━━━━━━━━━━\u001b[0m \u001b[32m179.3/179.3 kB\u001b[0m \u001b[31m5.6 MB/s\u001b[0m eta \u001b[36m0:00:00\u001b[0m\n",
            "\u001b[?25hDownloading multiprocess-0.70.16-py311-none-any.whl (143 kB)\n",
            "\u001b[2K   \u001b[90m━━━━━━━━━━━━━━━━━━━━━━━━━━━━━━━━━━━━━━━━\u001b[0m \u001b[32m143.5/143.5 kB\u001b[0m \u001b[31m8.3 MB/s\u001b[0m eta \u001b[36m0:00:00\u001b[0m\n",
            "\u001b[?25hDownloading xxhash-3.5.0-cp311-cp311-manylinux_2_17_x86_64.manylinux2014_x86_64.whl (194 kB)\n",
            "\u001b[2K   \u001b[90m━━━━━━━━━━━━━━━━━━━━━━━━━━━━━━━━━━━━━━━━\u001b[0m \u001b[32m194.8/194.8 kB\u001b[0m \u001b[31m11.3 MB/s\u001b[0m eta \u001b[36m0:00:00\u001b[0m\n",
            "\u001b[?25hInstalling collected packages: xxhash, fsspec, dill, multiprocess, datasets\n",
            "  Attempting uninstall: fsspec\n",
            "    Found existing installation: fsspec 2024.10.0\n",
            "    Uninstalling fsspec-2024.10.0:\n",
            "      Successfully uninstalled fsspec-2024.10.0\n",
            "\u001b[31mERROR: pip's dependency resolver does not currently take into account all the packages that are installed. This behaviour is the source of the following dependency conflicts.\n",
            "gcsfs 2024.10.0 requires fsspec==2024.10.0, but you have fsspec 2024.9.0 which is incompatible.\n",
            "torch 2.5.1+cu124 requires nvidia-cublas-cu12==12.4.5.8; platform_system == \"Linux\" and platform_machine == \"x86_64\", but you have nvidia-cublas-cu12 12.5.3.2 which is incompatible.\n",
            "torch 2.5.1+cu124 requires nvidia-cuda-cupti-cu12==12.4.127; platform_system == \"Linux\" and platform_machine == \"x86_64\", but you have nvidia-cuda-cupti-cu12 12.5.82 which is incompatible.\n",
            "torch 2.5.1+cu124 requires nvidia-cuda-nvrtc-cu12==12.4.127; platform_system == \"Linux\" and platform_machine == \"x86_64\", but you have nvidia-cuda-nvrtc-cu12 12.5.82 which is incompatible.\n",
            "torch 2.5.1+cu124 requires nvidia-cuda-runtime-cu12==12.4.127; platform_system == \"Linux\" and platform_machine == \"x86_64\", but you have nvidia-cuda-runtime-cu12 12.5.82 which is incompatible.\n",
            "torch 2.5.1+cu124 requires nvidia-cudnn-cu12==9.1.0.70; platform_system == \"Linux\" and platform_machine == \"x86_64\", but you have nvidia-cudnn-cu12 9.3.0.75 which is incompatible.\n",
            "torch 2.5.1+cu124 requires nvidia-cufft-cu12==11.2.1.3; platform_system == \"Linux\" and platform_machine == \"x86_64\", but you have nvidia-cufft-cu12 11.2.3.61 which is incompatible.\n",
            "torch 2.5.1+cu124 requires nvidia-curand-cu12==10.3.5.147; platform_system == \"Linux\" and platform_machine == \"x86_64\", but you have nvidia-curand-cu12 10.3.6.82 which is incompatible.\n",
            "torch 2.5.1+cu124 requires nvidia-cusolver-cu12==11.6.1.9; platform_system == \"Linux\" and platform_machine == \"x86_64\", but you have nvidia-cusolver-cu12 11.6.3.83 which is incompatible.\n",
            "torch 2.5.1+cu124 requires nvidia-cusparse-cu12==12.3.1.170; platform_system == \"Linux\" and platform_machine == \"x86_64\", but you have nvidia-cusparse-cu12 12.5.1.3 which is incompatible.\n",
            "torch 2.5.1+cu124 requires nvidia-nvjitlink-cu12==12.4.127; platform_system == \"Linux\" and platform_machine == \"x86_64\", but you have nvidia-nvjitlink-cu12 12.5.82 which is incompatible.\u001b[0m\u001b[31m\n",
            "\u001b[0mSuccessfully installed datasets-3.2.0 dill-0.3.8 fsspec-2024.9.0 multiprocess-0.70.16 xxhash-3.5.0\n"
          ]
        }
      ],
      "source": [
        "!pip install datasets"
      ]
    },
    {
      "cell_type": "code",
      "execution_count": null,
      "metadata": {
        "id": "SAgyPruNfJHM"
      },
      "outputs": [],
      "source": [
        "import datasets\n",
        "import numpy as np\n",
        "import pandas as pd\n",
        "import matplotlib.pyplot as plt"
      ]
    },
    {
      "cell_type": "code",
      "execution_count": null,
      "metadata": {
        "colab": {
          "base_uri": "https://localhost:8080/",
          "height": 301,
          "referenced_widgets": [
            "843fa77d23f74e6db2d61f0d5908e4dc",
            "3ed983a2b40f45ec9c5ecf40a5953ced",
            "8039b76477a843df8c540dad25fabd0d",
            "fb25a8823b3849528473baa50973ae1b",
            "f1b33928d482451dabddfe5a7e2f7732",
            "dacac0480c5045319234719b4c465f61",
            "97c9a6b7d0984ce8bd1b734bf67385fa",
            "d967828686724fd3ad783b628031cf09",
            "139fb73dd44f4954a7f8781162eae92c",
            "acbda4b8a0a843bd95cd0dc62127c694",
            "fdeba11b239a443b8898859f2c3b91a2",
            "d5e1e2c20dc540aeb691310905a4d753",
            "a62dd493251e446daff32fcc54a31f95",
            "889f9f4124b74419aad16db6c4fd9d89",
            "500620c7703d4acb896aa1abb9b3d4f1",
            "75c98d5a0fdb41969c9c86174eda7bcd",
            "0d54d8b3224e40ee9b247cfd97d1c90a",
            "14500affb4bb4d1883b5891a1e01ce63",
            "49de8151f88149d083500230f8a313c9",
            "8d1857e3e36848beaf87d19909709d9b",
            "189d3d4041c549dfaae500fa95b7da49",
            "928be349538d4b7285edeb6af93c52d5",
            "dd7e4fa56d7a4dcf8835f067333aa1e4",
            "5671805406bc410aaf19c2e781db0136",
            "4598d9772f664b38962eb871d85ece03",
            "6e5029a96c224ab3bd2ebb6e2ca765fb",
            "39a69ae03ebc4a579a00969dff677197",
            "4129de3e91cf4bff9ea97e4f7ca86486",
            "f271b9d5b809428aadf97a5803823351",
            "278da7d5c820455f95643a693339ccb6",
            "e125161201574224908d565f02f9f475",
            "c5e5e9a24b0d4d69a01da3c0fb23dc0b",
            "359d42e11307486c8cc2f55e8b56ca9f",
            "e4070b601e664a8a972ec5b63f3fd8dc",
            "9ad7191afd4c4243a82d46819861223a",
            "c734d1c3f90e4a45a16a64284b1dd137",
            "9a6ffaa89f4e436b957f088540548a57",
            "8538960c5f3e40d6ba4da12f77f97efa",
            "3554592923ca4db98b63e43837e0f264",
            "007fad4f58ed4c65879f497c4ddd7976",
            "42881be3c5144a259101926e20d5a924",
            "1ee02523665e41eb9cd13d890b4e96c5",
            "b3da39a1c38849e9888b52e6c631ac3a",
            "49703b5ae91d4ca0806ff58fb2af7d4e",
            "9dcfada984454ece908a65ccc2befdaa",
            "1a468c0236eb48ebb4ccca6e0dd45f6d",
            "afc8fbc7ce844579b3214b4dc60c89c9",
            "085cea0a2bfe40f5b99120905def3ad2",
            "c21f7a6f9efd4958ac3bdf60cb2ce5b8",
            "62fa1d5405db4f31aff584e7281d3937",
            "a467a55e051a46469e5ef5186d0ba595",
            "09422368b71141709f1dbbd567597665",
            "1e01865cbb574ca2a7000b6e6b88463d",
            "580d080d6ebb43bdab14ece42a01277b",
            "241a20582c2b4393ae3ecd480c34e309"
          ]
        },
        "id": "lO211ccifJHM",
        "outputId": "deb2a82d-215d-4dc8-c9e4-62ee36651efd"
      },
      "outputs": [
        {
          "name": "stderr",
          "output_type": "stream",
          "text": [
            "/usr/local/lib/python3.11/dist-packages/huggingface_hub/utils/_auth.py:94: UserWarning: \n",
            "The secret `HF_TOKEN` does not exist in your Colab secrets.\n",
            "To authenticate with the Hugging Face Hub, create a token in your settings tab (https://huggingface.co/settings/tokens), set it as secret in your Google Colab and restart your session.\n",
            "You will be able to reuse this secret in all of your notebooks.\n",
            "Please note that authentication is recommended but still optional to access public models or datasets.\n",
            "  warnings.warn(\n"
          ]
        },
        {
          "data": {
            "application/vnd.jupyter.widget-view+json": {
              "model_id": "843fa77d23f74e6db2d61f0d5908e4dc",
              "version_major": 2,
              "version_minor": 0
            },
            "text/plain": [
              "README.md:   0%|          | 0.00/6.97k [00:00<?, ?B/s]"
            ]
          },
          "metadata": {},
          "output_type": "display_data"
        },
        {
          "data": {
            "application/vnd.jupyter.widget-view+json": {
              "model_id": "d5e1e2c20dc540aeb691310905a4d753",
              "version_major": 2,
              "version_minor": 0
            },
            "text/plain": [
              "train-00000-of-00001.parquet:   0%|          | 0.00/15.6M [00:00<?, ?B/s]"
            ]
          },
          "metadata": {},
          "output_type": "display_data"
        },
        {
          "data": {
            "application/vnd.jupyter.widget-view+json": {
              "model_id": "dd7e4fa56d7a4dcf8835f067333aa1e4",
              "version_major": 2,
              "version_minor": 0
            },
            "text/plain": [
              "test-00000-of-00001.parquet:   0%|          | 0.00/2.60M [00:00<?, ?B/s]"
            ]
          },
          "metadata": {},
          "output_type": "display_data"
        },
        {
          "data": {
            "application/vnd.jupyter.widget-view+json": {
              "model_id": "e4070b601e664a8a972ec5b63f3fd8dc",
              "version_major": 2,
              "version_minor": 0
            },
            "text/plain": [
              "Generating train split:   0%|          | 0/60000 [00:00<?, ? examples/s]"
            ]
          },
          "metadata": {},
          "output_type": "display_data"
        },
        {
          "data": {
            "application/vnd.jupyter.widget-view+json": {
              "model_id": "9dcfada984454ece908a65ccc2befdaa",
              "version_major": 2,
              "version_minor": 0
            },
            "text/plain": [
              "Generating test split:   0%|          | 0/10000 [00:00<?, ? examples/s]"
            ]
          },
          "metadata": {},
          "output_type": "display_data"
        }
      ],
      "source": [
        "data = datasets.load_dataset(\"mnist\")"
      ]
    },
    {
      "cell_type": "code",
      "execution_count": null,
      "metadata": {
        "id": "-4g_d6ocfJHN"
      },
      "outputs": [],
      "source": [
        "# convert the image data into a numpy array and normalize the values from 0 to 1\n",
        "X = np.array(data['train'][\"image\"]) / 255\n",
        "y = np.array(data['train'][\"label\"])\n"
      ]
    },
    {
      "cell_type": "code",
      "execution_count": null,
      "metadata": {
        "colab": {
          "base_uri": "https://localhost:8080/",
          "height": 190
        },
        "id": "jo8bwR6vnnXn",
        "outputId": "ac522c5e-60b2-44a7-ea86-011e5aa52dc7"
      },
      "outputs": [
        {
          "data": {
            "image/png": "[encoded data removed]",
            "text/plain": [
              "<Figure size 1000x200 with 5 Axes>"
            ]
          },
          "metadata": {},
          "output_type": "display_data"
        }
      ],
      "source": [
        "import matplotlib.pyplot as plt\n",
        "\n",
        "plt.figure(figsize=(10, 2))  # Adjusted size for 5 images in a row\n",
        "for i in range(5):  # Looping only through the first 5 images\n",
        "    plt.subplot(1, 5, i + 1)  # 1 row, 5 columns\n",
        "    plt.xticks([])\n",
        "    plt.yticks([])\n",
        "    plt.grid(False)\n",
        "    plt.imshow(X[i].reshape(28, -1), cmap='gray')  # Assuming grayscale images\n",
        "    plt.xlabel(y[i])  # Display corresponding label\n",
        "plt.show()\n"
      ]
    },
    {
      "cell_type": "code",
      "execution_count": null,
      "metadata": {
        "colab": {
          "base_uri": "https://localhost:8080/"
        },
        "id": "SyUmXmSgfJHN",
        "outputId": "4f93d865-a8b2-409e-bbda-0a3de9d91c75"
      },
      "outputs": [
        {
          "data": {
            "text/plain": [
              "(60000, 784)"
            ]
          },
          "execution_count": 6,
          "metadata": {},
          "output_type": "execute_result"
        }
      ],
      "source": [
        "X = X.reshape(X.shape[0], -1)\n",
        "X.shape"
      ]
    },
    {
      "cell_type": "code",
      "execution_count": null,
      "metadata": {
        "id": "j6qmdh-ofJHN"
      },
      "outputs": [],
      "source": [
        "X_test = np.array(data['test'][\"image\"]) / 255\n",
        "y_test = np.array(data['test'][\"label\"])\n",
        "\n",
        "# flatten the test data\n",
        "X_test = X_test.reshape(X_test.shape[0], -1)"
      ]
    },
    {
      "cell_type": "code",
      "execution_count": null,
      "metadata": {
        "id": "oQHm-7srfJHN"
      },
      "outputs": [],
      "source": [
        "# randomly select 200 samples from training dataset and create a labelled dataset\n",
        "np.random.seed(45)\n",
        "idx = np.random.choice(X.shape[0], 200, replace=False)\n",
        "X_train_labelled = X[idx]\n",
        "y_train_labelled = y[idx]"
      ]
    },
    {
      "cell_type": "code",
      "execution_count": null,
      "metadata": {
        "colab": {
          "base_uri": "https://localhost:8080/"
        },
        "id": "qIJB632XfJHN",
        "outputId": "15d4e1ca-6adb-4046-8f1d-f4cf3c6da967"
      },
      "outputs": [
        {
          "data": {
            "text/plain": [
              "(59800, 784)"
            ]
          },
          "execution_count": 9,
          "metadata": {},
          "output_type": "execute_result"
        }
      ],
      "source": [
        "# create a pool of unlabelled data\n",
        "X_train_unlabelled = np.delete(X, idx, axis=0)\n",
        "y_train_unlabelled = np.delete(y, idx, axis=0)\n",
        "\n",
        "X_train_unlabelled.shape\n"
      ]
    },
    {
      "cell_type": "markdown",
      "metadata": {
        "id": "e2jq8tpxfJHO"
      },
      "source": [
        "## Task 2: Implement Random Sampling for Active Learning\n"
      ]
    },
    {
      "cell_type": "markdown",
      "metadata": {
        "id": "zyEb4ohFfJHO"
      },
      "source": [
        "- Train a Random Forest Classifier (you can use “from sklearn.ensemble import RandomForestClassifier”)  on the initial dataset of 200 samples.\n",
        "- Implement an active learning loop for 20 iterations:\n",
        "    - Randomly select a sample from the unlabeled pool.\n",
        "    - Get the selected sample and its true label.\n",
        "    - Add the sample and label to the labeled dataset.\n",
        "    - Remove the selected sample and label from the pool.\n",
        "    - Retrain the model on the updated dataset.\n",
        "    - Check the model's accuracy on the test set.\n",
        "    - Print accuracy after every iteration.\n"
      ]
    },
    {
      "cell_type": "code",
      "execution_count": null,
      "metadata": {
        "colab": {
          "base_uri": "https://localhost:8080/"
        },
        "id": "Btt1FHAFfJHO",
        "outputId": "f57f8bd0-7b32-479f-9e6c-a821bede1eae"
      },
      "outputs": [
        {
          "data": {
            "text/plain": [
              "0.7777"
            ]
          },
          "execution_count": 10,
          "metadata": {},
          "output_type": "execute_result"
        }
      ],
      "source": [
        "from sklearn.ensemble import RandomForestClassifier\n",
        "\n",
        "# train a random forest classifier on the labelled data\n",
        "clf = RandomForestClassifier(n_estimators=100)\n",
        "clf.fit(X_train_labelled, y_train_labelled)\n",
        "\n",
        "# predict the unlabelled data\n",
        "y_prediction = clf.predict(X_test)\n",
        "\n",
        "# calculate the accuracy of the classifier\n",
        "accuracy = np.mean(y_test == y_prediction)\n",
        "accuracy"
      ]
    },
    {
      "cell_type": "code",
      "execution_count": null,
      "metadata": {
        "colab": {
          "base_uri": "https://localhost:8080/"
        },
        "id": "3FzeXRNQfJHO",
        "outputId": "3c139176-991c-4041-8cc8-eb0cd8685d65"
      },
      "outputs": [
        {
          "name": "stdout",
          "output_type": "stream",
          "text": [
            "Iteration: 0 Accuracy: 0.7705\n",
            "Iteration: 1 Accuracy: 0.7791\n",
            "Iteration: 2 Accuracy: 0.7682\n",
            "Iteration: 3 Accuracy: 0.7717\n",
            "Iteration: 4 Accuracy: 0.776\n",
            "Iteration: 5 Accuracy: 0.7863\n",
            "Iteration: 6 Accuracy: 0.7662\n",
            "Iteration: 7 Accuracy: 0.7782\n",
            "Iteration: 8 Accuracy: 0.7798\n",
            "Iteration: 9 Accuracy: 0.7889\n",
            "Iteration: 10 Accuracy: 0.7819\n",
            "Iteration: 11 Accuracy: 0.7795\n",
            "Iteration: 12 Accuracy: 0.7835\n",
            "Iteration: 13 Accuracy: 0.7845\n",
            "Iteration: 14 Accuracy: 0.7868\n",
            "Iteration: 15 Accuracy: 0.7984\n",
            "Iteration: 16 Accuracy: 0.8022\n",
            "Iteration: 17 Accuracy: 0.7971\n",
            "Iteration: 18 Accuracy: 0.7862\n",
            "Iteration: 19 Accuracy: 0.7971\n"
          ]
        }
      ],
      "source": [
        "# implementing active learning by for 20 iterations by randomly choosing the samples from the unlabelled pool.\n",
        "task1_results = []\n",
        "index=[]\n",
        "for i in range(20):\n",
        "    idx_curr = np.random.choice(X_train_unlabelled.shape[0], 1, replace=False) # randomly select 1 sample\n",
        "    index.append(idx_curr)\n",
        "\n",
        "    # add the sample to the labelled dataset\n",
        "    X_train_labelled = np.concatenate([X_train_labelled, X_train_unlabelled[idx_curr]])\n",
        "    y_train_labelled = np.concatenate([y_train_labelled, y_train_unlabelled[idx_curr]])\n",
        "\n",
        "    # remove the sample from the unlabelled dataset\n",
        "    X_train_unlabelled = np.delete(X_train_unlabelled, idx_curr, axis=0)\n",
        "    y_train_unlabelled = np.delete(y_train_unlabelled, idx_curr, axis=0)\n",
        "\n",
        "    # retrain the classifier\n",
        "    clf.fit(X_train_labelled, y_train_labelled)\n",
        "\n",
        "    # predict the unlabelled data\n",
        "    y_prediction= clf.predict(X_test)\n",
        "\n",
        "    # calculate the accuracy of the classifier\n",
        "    accuracy = np.mean(y_test == y_prediction)\n",
        "    task1_results.append(accuracy)\n",
        "    print(f\"Iteration: {i} Accuracy: {accuracy}\")"
      ]
    },
    {
      "cell_type": "code",
      "execution_count": null,
      "metadata": {
        "colab": {
          "base_uri": "https://localhost:8080/",
          "height": 89
        },
        "id": "cZhKpcwnrHfD",
        "outputId": "3aa9f689-d337-4756-db96-b8bce8caec2f"
      },
      "outputs": [
        {
          "data": {
            "image/png": "[encoded data removed]",
            "text/plain": [
              "<Figure size 1000x200 with 20 Axes>"
            ]
          },
          "metadata": {},
          "output_type": "display_data"
        }
      ],
      "source": [
        "import matplotlib.pyplot as plt\n",
        "\n",
        "plt.figure(figsize=(10, 2))\n",
        "for i in range(20):\n",
        "    plt.subplot(1, 20, i + 1)  # 1 row, 20 columns\n",
        "    plt.xticks([])\n",
        "    plt.yticks([])\n",
        "    plt.grid(False)\n",
        "    plt.imshow(X[index[i]].reshape(28, -1), cmap='gray')  # Converting into grayscale images\n",
        "    plt.xlabel(y[index[i]])  # Display corresponding label\n",
        "plt.show()\n"
      ]
    },
    {
      "cell_type": "code",
      "execution_count": null,
      "metadata": {
        "id": "_15oqROtqVCI"
      },
      "outputs": [],
      "source": []
    },
    {
      "cell_type": "markdown",
      "metadata": {
        "id": "KbdzFcXvfJHP"
      },
      "source": [
        "## Task 3: Implement Uncertainty Sampling for Active Learning."
      ]
    },
    {
      "cell_type": "markdown",
      "metadata": {
        "id": "5dBHnn1lfJHP"
      },
      "source": [
        "- Train a Random Forest Classifier (you can use “from sklearn.ensemble import RandomForestClassifier”)  on the initial dataset of 200 samples.\n",
        "- Implement an active learning loop for 20 iterations:\n",
        "    - Compute uncertainty (Label Entropy) for each sample in the unlabeled pool using entropy.\n",
        "    - Select the sample with the highest uncertainty and query its true label.\n",
        "    - Add the queried sample to the labelled dataset and remove it from the unlabelled pool.\n",
        "    - Retrain the model and check the model's accuracy on the test set.\n",
        "    - Print accuracy after every iteration\n"
      ]
    },
    {
      "cell_type": "markdown",
      "metadata": {
        "id": "BygQjYQufJHP"
      },
      "source": []
    },
    {
      "cell_type": "code",
      "execution_count": null,
      "metadata": {
        "id": "UJz31aDmfJHP"
      },
      "outputs": [],
      "source": [
        "np.random.seed(45)\n",
        "idx = np.random.choice(X.shape[0], 200, replace=False)\n",
        "X_train_labelled = X[idx]\n",
        "y_train_labelled = y[idx]\n",
        "\n",
        "X_train_unlabelled=np.delete(X,idx,axis=0)\n",
        "y_train_unlabelled=np.delete(y,idx,axis=0)\n"
      ]
    },
    {
      "cell_type": "code",
      "execution_count": null,
      "metadata": {
        "colab": {
          "base_uri": "https://localhost:8080/"
        },
        "id": "fB6I3bvOfJHP",
        "outputId": "6f4dd226-1f29-42cd-ad23-92795e4c7ae4"
      },
      "outputs": [
        {
          "data": {
            "text/plain": [
              "(59800, 784)"
            ]
          },
          "execution_count": 14,
          "metadata": {},
          "output_type": "execute_result"
        }
      ],
      "source": [
        "X_train_unlabelled.shape\n"
      ]
    },
    {
      "cell_type": "code",
      "execution_count": null,
      "metadata": {
        "colab": {
          "base_uri": "https://localhost:8080/"
        },
        "id": "aQ--Wmh6fJHP",
        "outputId": "1cef6f86-b9c5-4cf0-dcf9-b26600efd556"
      },
      "outputs": [
        {
          "data": {
            "text/plain": [
              "0.7777"
            ]
          },
          "execution_count": 15,
          "metadata": {},
          "output_type": "execute_result"
        }
      ],
      "source": [
        "clf=RandomForestClassifier(n_estimators=100)\n",
        "clf.fit(X_train_labelled,y_train_labelled)\n",
        "y_prediction=clf.predict(X_test)\n",
        "accuracy=np.mean(y_test==y_prediction)\n",
        "accuracy"
      ]
    },
    {
      "cell_type": "code",
      "execution_count": null,
      "metadata": {
        "id": "AdZABuU-fJHQ"
      },
      "outputs": [],
      "source": [
        "def labelentropy(probability):\n",
        "    max_entropy=float('-inf') #Setting the highest entropy as -inf initially\n",
        "    epsilon=1e-10 # a small value to prevent adding 0 in log2 in the entropy formula to prevent getting error\n",
        "    maxind=-1\n",
        "    for i in range(len(probability)):\n",
        "        ent=-np.sum(probability[i]*np.log2(probability[i]+epsilon)) # Formula for entropy\n",
        "        if(ent>max_entropy):\n",
        "            max_entropy=ent #If the entropy calculated is greater than the previously found entropy then it becomes the new entropy and its index is saved\n",
        "            maxind=i\n",
        "    return [maxind]"
      ]
    },
    {
      "cell_type": "code",
      "execution_count": null,
      "metadata": {
        "colab": {
          "base_uri": "https://localhost:8080/"
        },
        "id": "exBLflCNfJHQ",
        "outputId": "72647816-2792-4397-b46a-81fbbcfed497"
      },
      "outputs": [
        {
          "data": {
            "text/plain": [
              "(784,)"
            ]
          },
          "execution_count": 17,
          "metadata": {},
          "output_type": "execute_result"
        }
      ],
      "source": [
        "X_train_unlabelled[0].shape"
      ]
    },
    {
      "cell_type": "code",
      "execution_count": null,
      "metadata": {
        "colab": {
          "base_uri": "https://localhost:8080/"
        },
        "id": "0sjjgqh3fJHQ",
        "outputId": "b061fcf5-3956-48ca-d85e-d7e914df3710"
      },
      "outputs": [
        {
          "name": "stdout",
          "output_type": "stream",
          "text": [
            "Iteration: 0 Accuracy: 0.7726\n",
            "Iteration: 1 Accuracy: 0.7711\n",
            "Iteration: 2 Accuracy: 0.7844\n",
            "Iteration: 3 Accuracy: 0.7796\n",
            "Iteration: 4 Accuracy: 0.7779\n",
            "Iteration: 5 Accuracy: 0.7785\n",
            "Iteration: 6 Accuracy: 0.7799\n",
            "Iteration: 7 Accuracy: 0.7667\n",
            "Iteration: 8 Accuracy: 0.7749\n",
            "Iteration: 9 Accuracy: 0.7783\n",
            "Iteration: 10 Accuracy: 0.7833\n",
            "Iteration: 11 Accuracy: 0.7794\n",
            "Iteration: 12 Accuracy: 0.7967\n",
            "Iteration: 13 Accuracy: 0.7949\n",
            "Iteration: 14 Accuracy: 0.7759\n",
            "Iteration: 15 Accuracy: 0.7903\n",
            "Iteration: 16 Accuracy: 0.7824\n",
            "Iteration: 17 Accuracy: 0.7838\n",
            "Iteration: 18 Accuracy: 0.7874\n",
            "Iteration: 19 Accuracy: 0.7933\n"
          ]
        }
      ],
      "source": [
        "task2_results=[]\n",
        "ind1=[]\n",
        "for i in range(20):\n",
        "    probability=clf.predict_proba(X_train_unlabelled)\n",
        "    idx_curr=labelentropy(probability)\n",
        "    ind1.append(idx_curr)\n",
        "\n",
        "    # add the sample to the labelled dataset\n",
        "    X_train_labelled = np.concatenate([X_train_labelled, X_train_unlabelled[idx_curr]])\n",
        "    y_train_labelled = np.concatenate([y_train_labelled, y_train_unlabelled[idx_curr]])\n",
        "\n",
        "    # remove the sample from the unlabelled dataset\n",
        "    X_train_unlabelled = np.delete(X_train_unlabelled, idx_curr, axis=0)\n",
        "    y_train_unlabelled = np.delete(y_train_unlabelled, idx_curr, axis=0)\n",
        "\n",
        "    # retrain the classifier\n",
        "    clf.fit(X_train_labelled, y_train_labelled)\n",
        "\n",
        "    # predict the unlabelled data\n",
        "    y_prediction= clf.predict(X_test)\n",
        "\n",
        "    # calculate the accuracy of the classifier\n",
        "    accuracy = np.mean(y_test == y_prediction)\n",
        "    task2_results.append(accuracy)\n",
        "    print(f\"Iteration: {i} Accuracy: {accuracy}\")\n",
        "\n"
      ]
    },
    {
      "cell_type": "code",
      "execution_count": null,
      "metadata": {
        "colab": {
          "base_uri": "https://localhost:8080/",
          "height": 89
        },
        "id": "7pRn6CV_pnDH",
        "outputId": "b9d5f515-54a4-4e52-d79e-830af8dc0e45"
      },
      "outputs": [
        {
          "data": {
            "image/png": "[encoded data removed]",
            "text/plain": [
              "<Figure size 1000x200 with 20 Axes>"
            ]
          },
          "metadata": {},
          "output_type": "display_data"
        }
      ],
      "source": [
        "import matplotlib.pyplot as plt\n",
        "\n",
        "plt.figure(figsize=(10, 2))\n",
        "for i in range(20):\n",
        "    plt.subplot(1, 20, i + 1)  # 1 row, 20 columns\n",
        "    plt.xticks([])\n",
        "    plt.yticks([])\n",
        "    plt.grid(False)\n",
        "    plt.imshow(X[ind1[i]].reshape(28, -1), cmap='gray')  # Convert into grayscale images\n",
        "    plt.xlabel(y[ind1[i]])  # Display corresponding label\n",
        "plt.show()\n"
      ]
    },
    {
      "cell_type": "code",
      "execution_count": null,
      "metadata": {
        "colab": {
          "base_uri": "https://localhost:8080/"
        },
        "id": "Y2h7v7Grte_a",
        "outputId": "e56f3deb-c756-446a-90c8-a33f640bfd12"
      },
      "outputs": [
        {
          "name": "stdout",
          "output_type": "stream",
          "text": [
            "[[2829], [37039], [32313], [36307], [49260], [24476], [32384], [45712], [12173], [52699], [42968], [43166], [47115], [53118], [14350], [13673], [32710], [41260], [57301], [17137]]\n"
          ]
        }
      ],
      "source": [
        "print(ind1) #Printing indices of the 20 uncertain samples"
      ]
    },
    {
      "cell_type": "markdown",
      "metadata": {
        "id": "ymRPXstQfJHQ"
      },
      "source": [
        "## Task 4: Implement Query-by-Committee for Active Learning"
      ]
    },
    {
      "cell_type": "markdown",
      "metadata": {
        "id": "LQvFgP19r03U"
      },
      "source": [
        "- Initialize a committee of 5 Random Forest models, each trained on the initial dataset.\n",
        "- In the active learning loop for 20 iterations:\n",
        "    - For each unlabeled sample, compute predictions from all committee members.\n",
        "    - Measure disagreement by calculating Vote Entropy.\n",
        "    - Select the sample with the highest disagreement and query its true label.\n",
        "    - Update the labelled dataset and retrain all models.\n",
        "    - Check the model's accuracy on the test set.\n",
        "    - Print accuracy after every iteration\n"
      ]
    },
    {
      "cell_type": "code",
      "execution_count": null,
      "metadata": {
        "id": "o4U7a4nMfJHQ"
      },
      "outputs": [],
      "source": [
        "np.random.seed(45)\n",
        "idx = np.random.choice(X.shape[0], 200, replace=False)\n",
        "X_train_labelled = X[idx]\n",
        "y_train_labelled = y[idx]\n",
        "\n",
        "X_train_unlabelled=np.delete(X,idx,axis=0)\n",
        "y_train_unlabelled=np.delete(y,idx,axis=0)"
      ]
    },
    {
      "cell_type": "markdown",
      "source": [
        "### Random Forest 1"
      ],
      "metadata": {
        "id": "xMlPVPLUvBL-"
      }
    },
    {
      "cell_type": "code",
      "execution_count": null,
      "metadata": {
        "id": "PSPAk1apfJHQ"
      },
      "outputs": [],
      "source": [
        "\n",
        "clf=RandomForestClassifier(n_estimators=100)\n",
        "clf.fit(X_train_labelled,y_train_labelled)\n",
        "y_prediction=clf.predict(X_test)\n"
      ]
    },
    {
      "cell_type": "markdown",
      "source": [
        "### Random Forest 2"
      ],
      "metadata": {
        "id": "FvNZZlZSvGZ0"
      }
    },
    {
      "cell_type": "code",
      "execution_count": null,
      "metadata": {
        "id": "-OCvCcx5fJHQ"
      },
      "outputs": [],
      "source": [
        "clf1=RandomForestClassifier(n_estimators=100)\n",
        "clf1.fit(X_train_labelled,y_train_labelled)\n",
        "y_prediction=clf1.predict(X_test)\n"
      ]
    },
    {
      "cell_type": "markdown",
      "source": [
        "### Random Forest 3"
      ],
      "metadata": {
        "id": "SVKikYkuvJR-"
      }
    },
    {
      "cell_type": "code",
      "execution_count": null,
      "metadata": {
        "id": "kmTJjga5fJHQ"
      },
      "outputs": [],
      "source": [
        "clf2=RandomForestClassifier(n_estimators=100)\n",
        "clf2.fit(X_train_labelled,y_train_labelled)\n",
        "y_prediction=clf2.predict(X_test)\n"
      ]
    },
    {
      "cell_type": "markdown",
      "source": [
        "### Random Forest 4"
      ],
      "metadata": {
        "id": "hraRY3TvvKgY"
      }
    },
    {
      "cell_type": "code",
      "execution_count": null,
      "metadata": {
        "id": "YV-5EhddfJHR"
      },
      "outputs": [],
      "source": [
        "clf3=RandomForestClassifier(n_estimators=100)\n",
        "clf3.fit(X_train_labelled,y_train_labelled)\n",
        "y_prediction=clf3.predict(X_test)\n"
      ]
    },
    {
      "cell_type": "markdown",
      "source": [
        "### Random Forest 5"
      ],
      "metadata": {
        "id": "NXnXeykNvLsC"
      }
    },
    {
      "cell_type": "code",
      "execution_count": null,
      "metadata": {
        "id": "zc4AfodCfJHR"
      },
      "outputs": [],
      "source": [
        "clf4=RandomForestClassifier(n_estimators=100)\n",
        "clf4.fit(X_train_labelled,y_train_labelled)\n",
        "y_prediction=clf4.predict(X_test)\n"
      ]
    },
    {
      "cell_type": "code",
      "execution_count": null,
      "metadata": {
        "colab": {
          "base_uri": "https://localhost:8080/"
        },
        "id": "6yi9sLurfJHR",
        "outputId": "34aaf1c2-4aaf-4c52-9ff7-81c62b14b10e"
      },
      "outputs": [
        {
          "name": "stdout",
          "output_type": "stream",
          "text": [
            "59800\n"
          ]
        }
      ],
      "source": [
        "print(len(X_train_unlabelled))"
      ]
    },
    {
      "cell_type": "code",
      "execution_count": null,
      "metadata": {
        "id": "ucem2sV8fJHR"
      },
      "outputs": [],
      "source": [
        "def voteentropy(X_train_unlabelled, clf, clf1, clf2, clf3, clf4):\n",
        "    # Put the predictions from all classifiers into a 2D array\n",
        "    predictions = np.array([\n",
        "        clf.predict(X_train_unlabelled),\n",
        "        clf1.predict(X_train_unlabelled),\n",
        "        clf2.predict(X_train_unlabelled),\n",
        "        clf3.predict(X_train_unlabelled),\n",
        "        clf4.predict(X_train_unlabelled)\n",
        "    ])\n",
        "\n",
        "    # Transpose predictions to have shape (5, n_samples)\n",
        "    predictions = predictions.T  # Now shape is (n_samples, 5)\n",
        "\n",
        "    # Initialize an empty array for storing probabilities\n",
        "    prob = np.zeros((predictions.shape[0], 10))\n",
        "\n",
        "    # Add 0.2 for each prediction in the corresponding class\n",
        "    for i in range(predictions.shape[0]):\n",
        "        np.add.at(prob[i], predictions[i], 0.2)\n",
        "\n",
        "    return prob\n"
      ]
    },
    {
      "cell_type": "code",
      "execution_count": null,
      "metadata": {
        "colab": {
          "base_uri": "https://localhost:8080/"
        },
        "id": "D-b2ovpsfJHR",
        "outputId": "ad3a693d-8626-4146-d37f-52c137721494"
      },
      "outputs": [
        {
          "name": "stdout",
          "output_type": "stream",
          "text": [
            "Iteration: 0 Accuracy: 0.7909\n",
            "Iteration: 1 Accuracy: 0.7992\n",
            "Iteration: 2 Accuracy: 0.7809\n",
            "Iteration: 3 Accuracy: 0.79\n",
            "Iteration: 4 Accuracy: 0.7876\n",
            "Iteration: 5 Accuracy: 0.7966\n",
            "Iteration: 6 Accuracy: 0.805\n",
            "Iteration: 7 Accuracy: 0.7975\n",
            "Iteration: 8 Accuracy: 0.7996\n",
            "Iteration: 9 Accuracy: 0.7985\n",
            "Iteration: 10 Accuracy: 0.8032\n",
            "Iteration: 11 Accuracy: 0.791\n",
            "Iteration: 12 Accuracy: 0.8017\n",
            "Iteration: 13 Accuracy: 0.8105\n",
            "Iteration: 14 Accuracy: 0.8009\n",
            "Iteration: 15 Accuracy: 0.8029\n",
            "Iteration: 16 Accuracy: 0.8018\n",
            "Iteration: 17 Accuracy: 0.7993\n",
            "Iteration: 18 Accuracy: 0.799\n",
            "Iteration: 19 Accuracy: 0.8156\n"
          ]
        }
      ],
      "source": [
        "task4_results=[]\n",
        "ind2=[]\n",
        "for i in range(20):\n",
        "    probability=voteentropy(X_train_unlabelled,clf,clf1,clf2,clf3,clf4) # Probaility array returned by voteentropy function\n",
        "    idx_curr=labelentropy(probability) #returning most uncertain index\n",
        "    ind2.append(idx_curr)\n",
        "\n",
        "    # add the sample to the labelled dataset\n",
        "    X_train_labelled = np.concatenate([X_train_labelled, X_train_unlabelled[idx_curr]])\n",
        "    y_train_labelled = np.concatenate([y_train_labelled, y_train_unlabelled[idx_curr]])\n",
        "\n",
        "    # remove the sample from the unlabelled dataset\n",
        "    X_train_unlabelled = np.delete(X_train_unlabelled, idx_curr, axis=0)\n",
        "    y_train_unlabelled = np.delete(y_train_unlabelled, idx_curr, axis=0)\n",
        "\n",
        "    # retrain the classifier\n",
        "    clf.fit(X_train_labelled, y_train_labelled)\n",
        "\n",
        "    # predict the unlabelled data\n",
        "    y_prediction= clf.predict(X_test)\n",
        "\n",
        "    # calculate the accuracy of the classifier\n",
        "    accuracy = np.mean(y_test == y_prediction)\n",
        "    task4_results.append(accuracy)\n",
        "    print(f\"Iteration: {i} Accuracy: {accuracy}\")\n"
      ]
    },
    {
      "cell_type": "code",
      "execution_count": null,
      "metadata": {
        "colab": {
          "base_uri": "https://localhost:8080/",
          "height": 89
        },
        "id": "XixnXVOQr8m_",
        "outputId": "707a19fd-bd18-4ff5-d807-0e7e829f35f4"
      },
      "outputs": [
        {
          "data": {
            "image/png": "[encoded data removed]",
            "text/plain": [
              "<Figure size 1000x200 with 20 Axes>"
            ]
          },
          "metadata": {},
          "output_type": "display_data"
        }
      ],
      "source": [
        "import matplotlib.pyplot as plt\n",
        "\n",
        "plt.figure(figsize=(10, 2))  # Adjusted size for 5 images in a row\n",
        "for i in range(20):  # Looping only through the first 5 images\n",
        "    plt.subplot(1, 20, i + 1)  # 1 row, 5 columns\n",
        "    plt.xticks([])\n",
        "    plt.yticks([])\n",
        "    plt.grid(False)\n",
        "    plt.imshow(X[ind2[i]].reshape(28, -1), cmap='gray')  # Assuming grayscale images\n",
        "    plt.xlabel(y[ind2[i]])  # Display corresponding label\n",
        "plt.show()\n"
      ]
    },
    {
      "cell_type": "code",
      "execution_count": null,
      "metadata": {
        "colab": {
          "base_uri": "https://localhost:8080/"
        },
        "id": "s5pzV_KKtZbl",
        "outputId": "2e714b35-4d0b-4b85-9690-1e2828e4f6db"
      },
      "outputs": [
        {
          "name": "stdout",
          "output_type": "stream",
          "text": [
            "[[11233], [15128], [16076], [16297], [11626], [17116], [17410], [16446], [19783], [23792], [22313], [20648], [24157], [12867], [1069], [24349], [24467], [11647], [12959], [31230]]\n"
          ]
        }
      ],
      "source": [
        "print(ind2) #Printing index of the 20 uncertain indices"
      ]
    },
    {
      "cell_type": "markdown",
      "metadata": {
        "id": "k9sjx-qjf5eK"
      },
      "source": [
        "## Task 5 Evaluation & Report\n"
      ]
    },
    {
      "cell_type": "markdown",
      "metadata": {
        "id": "7vuwQqyqr03X"
      },
      "source": [
        "### Compare Final Model Accuracy Across All Three Strategies"
      ]
    },
    {
      "cell_type": "markdown",
      "metadata": {
        "id": "GakbfeQCr03X"
      },
      "source": [
        "- Random Sampling → Final Accuracy = 79.71%\n",
        "- Uncertainty Sampling → Final Accuracy = 79.33%\n",
        "- Query-by-Committee → Final Accuracy = 81.56%\n",
        "\n",
        "Highest Accuracy was given by the Query-by-Committee approach"
      ]
    },
    {
      "cell_type": "markdown",
      "metadata": {
        "id": "dID9zfLrr03Y"
      },
      "source": [
        "### Plot the Accuracy Graph"
      ]
    },
    {
      "cell_type": "code",
      "execution_count": null,
      "metadata": {
        "colab": {
          "base_uri": "https://localhost:8080/",
          "height": 472
        },
        "id": "diulz55yfJHR",
        "outputId": "9733d950-7c27-4fea-edd0-ce407bc16a92"
      },
      "outputs": [
        {
          "data": {
            "image/png": "[encoded data removed]",
            "text/plain": [
              "<Figure size 640x480 with 1 Axes>"
            ]
          },
          "metadata": {},
          "output_type": "display_data"
        }
      ],
      "source": [
        "iterations=np.arange(0,20,1)\n",
        "\n",
        "plt.plot(iterations,task1_results,label=\"Random Sampling\",marker = \"o\") #Plotting random sampling accuracy results\n",
        "plt.plot(iterations,task2_results,label=\"Uncertainty Sampling\",marker = \"o\") #Plotting uncertainty sampling accuracy results\n",
        "plt.plot(iterations,task4_results,label=\"Query-by-Committee\",marker = \"o\") #Plotting query-by-committee accuracy results\n",
        "plt.xlabel(\"Iterations\")\n",
        "plt.ylabel(\"Accuracy\")\n",
        "plt.title(\"Accuracy vs Iterations\")\n",
        "plt.legend()\n",
        "plt.show()"
      ]
    },
    {
      "cell_type": "markdown",
      "metadata": {
        "id": "StfmHjUyr03Y"
      },
      "source": [
        "### Cost-Effectiveness Analysis"
      ]
    },
    {
      "cell_type": "markdown",
      "metadata": {
        "id": "tCHI4g-0r03Y"
      },
      "source": [
        "- Random Sampling: Easy to implement but inefficient; might not improve accuracy significantly.\n",
        "- Uncertainty Sampling: More cost-effective as it selects difficult samples, leading to faster learning.\n",
        "- Query-by-Committee: Computationally expensive but can lead to better generalization if models disagree meaningfully.\n",
        "\n"
      ]
    },
    {
      "cell_type": "markdown",
      "metadata": {
        "id": "lJzHyRCCr03Y"
      },
      "source": [
        "### Findings & Limitations"
      ]
    },
    {
      "cell_type": "markdown",
      "metadata": {
        "id": "50vgsDK4r03Z"
      },
      "source": [
        "#### Findings:\n",
        "- Query-by-Committee achieved the highest final accuracy but was computationally expensive.\n",
        "- Uncertainty Sampling improved accuracy faster than Random Sampling but was sensitive to noise.\n",
        "- Random Sampling had the slowest improvement and was the least efficient."
      ]
    },
    {
      "cell_type": "markdown",
      "metadata": {
        "id": "VMg-ji7Yr03Z"
      },
      "source": [
        "#### Limitations:\n",
        "- Fluctuations in accuracy due to small initial training set.\n",
        "- Noise sensitivity in Uncertainty Sampling (if a wrongly labeled sample was added).\n",
        "- Computational cost of Query-by-Committee (training multiple models)."
      ]
    },
    {
      "cell_type": "markdown",
      "metadata": {
        "id": "Q4pqYB8sr03Z"
      },
      "source": [
        "#### Conclusion:\n",
        "For cost-effective active learning, Uncertainty Sampling is the best trade-off between efficiency and accuracy. However, Query-by-Committee provides the best final accuracy if computational cost is not a concern."
      ]
    },
    {
      "cell_type": "markdown",
      "metadata": {
        "id": "VtB4YlDmr03Z"
      },
      "source": []
    }
  ],
  "metadata": {
    "colab": {
      "provenance": [],
      "include_colab_link": true
    },
    "kernelspec": {
      "display_name": "Python 3",
      "language": "python",
      "name": "python3"
    },
    "language_info": {
      "codemirror_mode": {
        "name": "ipython",
        "version": 3
      },
      "file_extension": ".py",
      "mimetype": "text/x-python",
      "name": "python",
      "nbconvert_exporter": "python",
      "pygments_lexer": "ipython3",
      "version": "3.13.1"
    },
    "widgets": {
      "application/vnd.jupyter.widget-state+json": {
        "007fad4f58ed4c65879f497c4ddd7976": {
          "model_module": "@jupyter-widgets/controls",
          "model_module_version": "1.5.0",
          "model_name": "DescriptionStyleModel",
          "state": {
            "_model_module": "@jupyter-widgets/controls",
            "_model_module_version": "1.5.0",
            "_model_name": "DescriptionStyleModel",
            "_view_count": null,
            "_view_module": "@jupyter-widgets/base",
            "_view_module_version": "1.2.0",
            "_view_name": "StyleView",
            "description_width": ""
          }
        },
        "085cea0a2bfe40f5b99120905def3ad2": {
          "model_module": "@jupyter-widgets/controls",
          "model_module_version": "1.5.0",
          "model_name": "HTMLModel",
          "state": {
            "_dom_classes": [],
            "_model_module": "@jupyter-widgets/controls",
            "_model_module_version": "1.5.0",
            "_model_name": "HTMLModel",
            "_view_count": null,
            "_view_module": "@jupyter-widgets/controls",
            "_view_module_version": "1.5.0",
            "_view_name": "HTMLView",
            "description": "",
            "description_tooltip": null,
            "layout": "IPY_MODEL_580d080d6ebb43bdab14ece42a01277b",
            "placeholder": "​",
            "style": "IPY_MODEL_241a20582c2b4393ae3ecd480c34e309",
            "value": " 10000/10000 [00:00&lt;00:00, 68169.50 examples/s]"
          }
        },
        "09422368b71141709f1dbbd567597665": {
          "model_module": "@jupyter-widgets/base",
          "model_module_version": "1.2.0",
          "model_name": "LayoutModel",
          "state": {
            "_model_module": "@jupyter-widgets/base",
            "_model_module_version": "1.2.0",
            "_model_name": "LayoutModel",
            "_view_count": null,
            "_view_module": "@jupyter-widgets/base",
            "_view_module_version": "1.2.0",
            "_view_name": "LayoutView",
            "align_content": null,
            "align_items": null,
            "align_self": null,
            "border": null,
            "bottom": null,
            "display": null,
            "flex": null,
            "flex_flow": null,
            "grid_area": null,
            "grid_auto_columns": null,
            "grid_auto_flow": null,
            "grid_auto_rows": null,
            "grid_column": null,
            "grid_gap": null,
            "grid_row": null,
            "grid_template_areas": null,
            "grid_template_columns": null,
            "grid_template_rows": null,
            "height": null,
            "justify_content": null,
            "justify_items": null,
            "left": null,
            "margin": null,
            "max_height": null,
            "max_width": null,
            "min_height": null,
            "min_width": null,
            "object_fit": null,
            "object_position": null,
            "order": null,
            "overflow": null,
            "overflow_x": null,
            "overflow_y": null,
            "padding": null,
            "right": null,
            "top": null,
            "visibility": null,
            "width": null
          }
        },
        "0d54d8b3224e40ee9b247cfd97d1c90a": {
          "model_module": "@jupyter-widgets/base",
          "model_module_version": "1.2.0",
          "model_name": "LayoutModel",
          "state": {
            "_model_module": "@jupyter-widgets/base",
            "_model_module_version": "1.2.0",
            "_model_name": "LayoutModel",
            "_view_count": null,
            "_view_module": "@jupyter-widgets/base",
            "_view_module_version": "1.2.0",
            "_view_name": "LayoutView",
            "align_content": null,
            "align_items": null,
            "align_self": null,
            "border": null,
            "bottom": null,
            "display": null,
            "flex": null,
            "flex_flow": null,
            "grid_area": null,
            "grid_auto_columns": null,
            "grid_auto_flow": null,
            "grid_auto_rows": null,
            "grid_column": null,
            "grid_gap": null,
            "grid_row": null,
            "grid_template_areas": null,
            "grid_template_columns": null,
            "grid_template_rows": null,
            "height": null,
            "justify_content": null,
            "justify_items": null,
            "left": null,
            "margin": null,
            "max_height": null,
            "max_width": null,
            "min_height": null,
            "min_width": null,
            "object_fit": null,
            "object_position": null,
            "order": null,
            "overflow": null,
            "overflow_x": null,
            "overflow_y": null,
            "padding": null,
            "right": null,
            "top": null,
            "visibility": null,
            "width": null
          }
        },
        "139fb73dd44f4954a7f8781162eae92c": {
          "model_module": "@jupyter-widgets/controls",
          "model_module_version": "1.5.0",
          "model_name": "ProgressStyleModel",
          "state": {
            "_model_module": "@jupyter-widgets/controls",
            "_model_module_version": "1.5.0",
            "_model_name": "ProgressStyleModel",
            "_view_count": null,
            "_view_module": "@jupyter-widgets/base",
            "_view_module_version": "1.2.0",
            "_view_name": "StyleView",
            "bar_color": null,
            "description_width": ""
          }
        },
        "14500affb4bb4d1883b5891a1e01ce63": {
          "model_module": "@jupyter-widgets/controls",
          "model_module_version": "1.5.0",
          "model_name": "DescriptionStyleModel",
          "state": {
            "_model_module": "@jupyter-widgets/controls",
            "_model_module_version": "1.5.0",
            "_model_name": "DescriptionStyleModel",
            "_view_count": null,
            "_view_module": "@jupyter-widgets/base",
            "_view_module_version": "1.2.0",
            "_view_name": "StyleView",
            "description_width": ""
          }
        },
        "189d3d4041c549dfaae500fa95b7da49": {
          "model_module": "@jupyter-widgets/base",
          "model_module_version": "1.2.0",
          "model_name": "LayoutModel",
          "state": {
            "_model_module": "@jupyter-widgets/base",
            "_model_module_version": "1.2.0",
            "_model_name": "LayoutModel",
            "_view_count": null,
            "_view_module": "@jupyter-widgets/base",
            "_view_module_version": "1.2.0",
            "_view_name": "LayoutView",
            "align_content": null,
            "align_items": null,
            "align_self": null,
            "border": null,
            "bottom": null,
            "display": null,
            "flex": null,
            "flex_flow": null,
            "grid_area": null,
            "grid_auto_columns": null,
            "grid_auto_flow": null,
            "grid_auto_rows": null,
            "grid_column": null,
            "grid_gap": null,
            "grid_row": null,
            "grid_template_areas": null,
            "grid_template_columns": null,
            "grid_template_rows": null,
            "height": null,
            "justify_content": null,
            "justify_items": null,
            "left": null,
            "margin": null,
            "max_height": null,
            "max_width": null,
            "min_height": null,
            "min_width": null,
            "object_fit": null,
            "object_position": null,
            "order": null,
            "overflow": null,
            "overflow_x": null,
            "overflow_y": null,
            "padding": null,
            "right": null,
            "top": null,
            "visibility": null,
            "width": null
          }
        },
        "1a468c0236eb48ebb4ccca6e0dd45f6d": {
          "model_module": "@jupyter-widgets/controls",
          "model_module_version": "1.5.0",
          "model_name": "HTMLModel",
          "state": {
            "_dom_classes": [],
            "_model_module": "@jupyter-widgets/controls",
            "_model_module_version": "1.5.0",
            "_model_name": "HTMLModel",
            "_view_count": null,
            "_view_module": "@jupyter-widgets/controls",
            "_view_module_version": "1.5.0",
            "_view_name": "HTMLView",
            "description": "",
            "description_tooltip": null,
            "layout": "IPY_MODEL_62fa1d5405db4f31aff584e7281d3937",
            "placeholder": "​",
            "style": "IPY_MODEL_a467a55e051a46469e5ef5186d0ba595",
            "value": "Generating test split: 100%"
          }
        },
        "1e01865cbb574ca2a7000b6e6b88463d": {
          "model_module": "@jupyter-widgets/controls",
          "model_module_version": "1.5.0",
          "model_name": "ProgressStyleModel",
          "state": {
            "_model_module": "@jupyter-widgets/controls",
            "_model_module_version": "1.5.0",
            "_model_name": "ProgressStyleModel",
            "_view_count": null,
            "_view_module": "@jupyter-widgets/base",
            "_view_module_version": "1.2.0",
            "_view_name": "StyleView",
            "bar_color": null,
            "description_width": ""
          }
        },
        "1ee02523665e41eb9cd13d890b4e96c5": {
          "model_module": "@jupyter-widgets/controls",
          "model_module_version": "1.5.0",
          "model_name": "ProgressStyleModel",
          "state": {
            "_model_module": "@jupyter-widgets/controls",
            "_model_module_version": "1.5.0",
            "_model_name": "ProgressStyleModel",
            "_view_count": null,
            "_view_module": "@jupyter-widgets/base",
            "_view_module_version": "1.2.0",
            "_view_name": "StyleView",
            "bar_color": null,
            "description_width": ""
          }
        },
        "241a20582c2b4393ae3ecd480c34e309": {
          "model_module": "@jupyter-widgets/controls",
          "model_module_version": "1.5.0",
          "model_name": "DescriptionStyleModel",
          "state": {
            "_model_module": "@jupyter-widgets/controls",
            "_model_module_version": "1.5.0",
            "_model_name": "DescriptionStyleModel",
            "_view_count": null,
            "_view_module": "@jupyter-widgets/base",
            "_view_module_version": "1.2.0",
            "_view_name": "StyleView",
            "description_width": ""
          }
        },
        "278da7d5c820455f95643a693339ccb6": {
          "model_module": "@jupyter-widgets/base",
          "model_module_version": "1.2.0",
          "model_name": "LayoutModel",
          "state": {
            "_model_module": "@jupyter-widgets/base",
            "_model_module_version": "1.2.0",
            "_model_name": "LayoutModel",
            "_view_count": null,
            "_view_module": "@jupyter-widgets/base",
            "_view_module_version": "1.2.0",
            "_view_name": "LayoutView",
            "align_content": null,
            "align_items": null,
            "align_self": null,
            "border": null,
            "bottom": null,
            "display": null,
            "flex": null,
            "flex_flow": null,
            "grid_area": null,
            "grid_auto_columns": null,
            "grid_auto_flow": null,
            "grid_auto_rows": null,
            "grid_column": null,
            "grid_gap": null,
            "grid_row": null,
            "grid_template_areas": null,
            "grid_template_columns": null,
            "grid_template_rows": null,
            "height": null,
            "justify_content": null,
            "justify_items": null,
            "left": null,
            "margin": null,
            "max_height": null,
            "max_width": null,
            "min_height": null,
            "min_width": null,
            "object_fit": null,
            "object_position": null,
            "order": null,
            "overflow": null,
            "overflow_x": null,
            "overflow_y": null,
            "padding": null,
            "right": null,
            "top": null,
            "visibility": null,
            "width": null
          }
        },
        "3554592923ca4db98b63e43837e0f264": {
          "model_module": "@jupyter-widgets/base",
          "model_module_version": "1.2.0",
          "model_name": "LayoutModel",
          "state": {
            "_model_module": "@jupyter-widgets/base",
            "_model_module_version": "1.2.0",
            "_model_name": "LayoutModel",
            "_view_count": null,
            "_view_module": "@jupyter-widgets/base",
            "_view_module_version": "1.2.0",
            "_view_name": "LayoutView",
            "align_content": null,
            "align_items": null,
            "align_self": null,
            "border": null,
            "bottom": null,
            "display": null,
            "flex": null,
            "flex_flow": null,
            "grid_area": null,
            "grid_auto_columns": null,
            "grid_auto_flow": null,
            "grid_auto_rows": null,
            "grid_column": null,
            "grid_gap": null,
            "grid_row": null,
            "grid_template_areas": null,
            "grid_template_columns": null,
            "grid_template_rows": null,
            "height": null,
            "justify_content": null,
            "justify_items": null,
            "left": null,
            "margin": null,
            "max_height": null,
            "max_width": null,
            "min_height": null,
            "min_width": null,
            "object_fit": null,
            "object_position": null,
            "order": null,
            "overflow": null,
            "overflow_x": null,
            "overflow_y": null,
            "padding": null,
            "right": null,
            "top": null,
            "visibility": null,
            "width": null
          }
        },
        "359d42e11307486c8cc2f55e8b56ca9f": {
          "model_module": "@jupyter-widgets/controls",
          "model_module_version": "1.5.0",
          "model_name": "DescriptionStyleModel",
          "state": {
            "_model_module": "@jupyter-widgets/controls",
            "_model_module_version": "1.5.0",
            "_model_name": "DescriptionStyleModel",
            "_view_count": null,
            "_view_module": "@jupyter-widgets/base",
            "_view_module_version": "1.2.0",
            "_view_name": "StyleView",
            "description_width": ""
          }
        },
        "39a69ae03ebc4a579a00969dff677197": {
          "model_module": "@jupyter-widgets/base",
          "model_module_version": "1.2.0",
          "model_name": "LayoutModel",
          "state": {
            "_model_module": "@jupyter-widgets/base",
            "_model_module_version": "1.2.0",
            "_model_name": "LayoutModel",
            "_view_count": null,
            "_view_module": "@jupyter-widgets/base",
            "_view_module_version": "1.2.0",
            "_view_name": "LayoutView",
            "align_content": null,
            "align_items": null,
            "align_self": null,
            "border": null,
            "bottom": null,
            "display": null,
            "flex": null,
            "flex_flow": null,
            "grid_area": null,
            "grid_auto_columns": null,
            "grid_auto_flow": null,
            "grid_auto_rows": null,
            "grid_column": null,
            "grid_gap": null,
            "grid_row": null,
            "grid_template_areas": null,
            "grid_template_columns": null,
            "grid_template_rows": null,
            "height": null,
            "justify_content": null,
            "justify_items": null,
            "left": null,
            "margin": null,
            "max_height": null,
            "max_width": null,
            "min_height": null,
            "min_width": null,
            "object_fit": null,
            "object_position": null,
            "order": null,
            "overflow": null,
            "overflow_x": null,
            "overflow_y": null,
            "padding": null,
            "right": null,
            "top": null,
            "visibility": null,
            "width": null
          }
        },
        "3ed983a2b40f45ec9c5ecf40a5953ced": {
          "model_module": "@jupyter-widgets/controls",
          "model_module_version": "1.5.0",
          "model_name": "HTMLModel",
          "state": {
            "_dom_classes": [],
            "_model_module": "@jupyter-widgets/controls",
            "_model_module_version": "1.5.0",
            "_model_name": "HTMLModel",
            "_view_count": null,
            "_view_module": "@jupyter-widgets/controls",
            "_view_module_version": "1.5.0",
            "_view_name": "HTMLView",
            "description": "",
            "description_tooltip": null,
            "layout": "IPY_MODEL_dacac0480c5045319234719b4c465f61",
            "placeholder": "​",
            "style": "IPY_MODEL_97c9a6b7d0984ce8bd1b734bf67385fa",
            "value": "README.md: 100%"
          }
        },
        "4129de3e91cf4bff9ea97e4f7ca86486": {
          "model_module": "@jupyter-widgets/base",
          "model_module_version": "1.2.0",
          "model_name": "LayoutModel",
          "state": {
            "_model_module": "@jupyter-widgets/base",
            "_model_module_version": "1.2.0",
            "_model_name": "LayoutModel",
            "_view_count": null,
            "_view_module": "@jupyter-widgets/base",
            "_view_module_version": "1.2.0",
            "_view_name": "LayoutView",
            "align_content": null,
            "align_items": null,
            "align_self": null,
            "border": null,
            "bottom": null,
            "display": null,
            "flex": null,
            "flex_flow": null,
            "grid_area": null,
            "grid_auto_columns": null,
            "grid_auto_flow": null,
            "grid_auto_rows": null,
            "grid_column": null,
            "grid_gap": null,
            "grid_row": null,
            "grid_template_areas": null,
            "grid_template_columns": null,
            "grid_template_rows": null,
            "height": null,
            "justify_content": null,
            "justify_items": null,
            "left": null,
            "margin": null,
            "max_height": null,
            "max_width": null,
            "min_height": null,
            "min_width": null,
            "object_fit": null,
            "object_position": null,
            "order": null,
            "overflow": null,
            "overflow_x": null,
            "overflow_y": null,
            "padding": null,
            "right": null,
            "top": null,
            "visibility": null,
            "width": null
          }
        },
        "42881be3c5144a259101926e20d5a924": {
          "model_module": "@jupyter-widgets/base",
          "model_module_version": "1.2.0",
          "model_name": "LayoutModel",
          "state": {
            "_model_module": "@jupyter-widgets/base",
            "_model_module_version": "1.2.0",
            "_model_name": "LayoutModel",
            "_view_count": null,
            "_view_module": "@jupyter-widgets/base",
            "_view_module_version": "1.2.0",
            "_view_name": "LayoutView",
            "align_content": null,
            "align_items": null,
            "align_self": null,
            "border": null,
            "bottom": null,
            "display": null,
            "flex": null,
            "flex_flow": null,
            "grid_area": null,
            "grid_auto_columns": null,
            "grid_auto_flow": null,
            "grid_auto_rows": null,
            "grid_column": null,
            "grid_gap": null,
            "grid_row": null,
            "grid_template_areas": null,
            "grid_template_columns": null,
            "grid_template_rows": null,
            "height": null,
            "justify_content": null,
            "justify_items": null,
            "left": null,
            "margin": null,
            "max_height": null,
            "max_width": null,
            "min_height": null,
            "min_width": null,
            "object_fit": null,
            "object_position": null,
            "order": null,
            "overflow": null,
            "overflow_x": null,
            "overflow_y": null,
            "padding": null,
            "right": null,
            "top": null,
            "visibility": null,
            "width": null
          }
        },
        "4598d9772f664b38962eb871d85ece03": {
          "model_module": "@jupyter-widgets/controls",
          "model_module_version": "1.5.0",
          "model_name": "FloatProgressModel",
          "state": {
            "_dom_classes": [],
            "_model_module": "@jupyter-widgets/controls",
            "_model_module_version": "1.5.0",
            "_model_name": "FloatProgressModel",
            "_view_count": null,
            "_view_module": "@jupyter-widgets/controls",
            "_view_module_version": "1.5.0",
            "_view_name": "ProgressView",
            "bar_style": "success",
            "description": "",
            "description_tooltip": null,
            "layout": "IPY_MODEL_278da7d5c820455f95643a693339ccb6",
            "max": 2595890,
            "min": 0,
            "orientation": "horizontal",
            "style": "IPY_MODEL_e125161201574224908d565f02f9f475",
            "value": 2595890
          }
        },
        "49703b5ae91d4ca0806ff58fb2af7d4e": {
          "model_module": "@jupyter-widgets/controls",
          "model_module_version": "1.5.0",
          "model_name": "DescriptionStyleModel",
          "state": {
            "_model_module": "@jupyter-widgets/controls",
            "_model_module_version": "1.5.0",
            "_model_name": "DescriptionStyleModel",
            "_view_count": null,
            "_view_module": "@jupyter-widgets/base",
            "_view_module_version": "1.2.0",
            "_view_name": "StyleView",
            "description_width": ""
          }
        },
        "49de8151f88149d083500230f8a313c9": {
          "model_module": "@jupyter-widgets/base",
          "model_module_version": "1.2.0",
          "model_name": "LayoutModel",
          "state": {
            "_model_module": "@jupyter-widgets/base",
            "_model_module_version": "1.2.0",
            "_model_name": "LayoutModel",
            "_view_count": null,
            "_view_module": "@jupyter-widgets/base",
            "_view_module_version": "1.2.0",
            "_view_name": "LayoutView",
            "align_content": null,
            "align_items": null,
            "align_self": null,
            "border": null,
            "bottom": null,
            "display": null,
            "flex": null,
            "flex_flow": null,
            "grid_area": null,
            "grid_auto_columns": null,
            "grid_auto_flow": null,
            "grid_auto_rows": null,
            "grid_column": null,
            "grid_gap": null,
            "grid_row": null,
            "grid_template_areas": null,
            "grid_template_columns": null,
            "grid_template_rows": null,
            "height": null,
            "justify_content": null,
            "justify_items": null,
            "left": null,
            "margin": null,
            "max_height": null,
            "max_width": null,
            "min_height": null,
            "min_width": null,
            "object_fit": null,
            "object_position": null,
            "order": null,
            "overflow": null,
            "overflow_x": null,
            "overflow_y": null,
            "padding": null,
            "right": null,
            "top": null,
            "visibility": null,
            "width": null
          }
        },
        "500620c7703d4acb896aa1abb9b3d4f1": {
          "model_module": "@jupyter-widgets/controls",
          "model_module_version": "1.5.0",
          "model_name": "HTMLModel",
          "state": {
            "_dom_classes": [],
            "_model_module": "@jupyter-widgets/controls",
            "_model_module_version": "1.5.0",
            "_model_name": "HTMLModel",
            "_view_count": null,
            "_view_module": "@jupyter-widgets/controls",
            "_view_module_version": "1.5.0",
            "_view_name": "HTMLView",
            "description": "",
            "description_tooltip": null,
            "layout": "IPY_MODEL_189d3d4041c549dfaae500fa95b7da49",
            "placeholder": "​",
            "style": "IPY_MODEL_928be349538d4b7285edeb6af93c52d5",
            "value": " 15.6M/15.6M [00:00&lt;00:00, 25.1MB/s]"
          }
        },
        "5671805406bc410aaf19c2e781db0136": {
          "model_module": "@jupyter-widgets/controls",
          "model_module_version": "1.5.0",
          "model_name": "HTMLModel",
          "state": {
            "_dom_classes": [],
            "_model_module": "@jupyter-widgets/controls",
            "_model_module_version": "1.5.0",
            "_model_name": "HTMLModel",
            "_view_count": null,
            "_view_module": "@jupyter-widgets/controls",
            "_view_module_version": "1.5.0",
            "_view_name": "HTMLView",
            "description": "",
            "description_tooltip": null,
            "layout": "IPY_MODEL_4129de3e91cf4bff9ea97e4f7ca86486",
            "placeholder": "​",
            "style": "IPY_MODEL_f271b9d5b809428aadf97a5803823351",
            "value": "test-00000-of-00001.parquet: 100%"
          }
        },
        "580d080d6ebb43bdab14ece42a01277b": {
          "model_module": "@jupyter-widgets/base",
          "model_module_version": "1.2.0",
          "model_name": "LayoutModel",
          "state": {
            "_model_module": "@jupyter-widgets/base",
            "_model_module_version": "1.2.0",
            "_model_name": "LayoutModel",
            "_view_count": null,
            "_view_module": "@jupyter-widgets/base",
            "_view_module_version": "1.2.0",
            "_view_name": "LayoutView",
            "align_content": null,
            "align_items": null,
            "align_self": null,
            "border": null,
            "bottom": null,
            "display": null,
            "flex": null,
            "flex_flow": null,
            "grid_area": null,
            "grid_auto_columns": null,
            "grid_auto_flow": null,
            "grid_auto_rows": null,
            "grid_column": null,
            "grid_gap": null,
            "grid_row": null,
            "grid_template_areas": null,
            "grid_template_columns": null,
            "grid_template_rows": null,
            "height": null,
            "justify_content": null,
            "justify_items": null,
            "left": null,
            "margin": null,
            "max_height": null,
            "max_width": null,
            "min_height": null,
            "min_width": null,
            "object_fit": null,
            "object_position": null,
            "order": null,
            "overflow": null,
            "overflow_x": null,
            "overflow_y": null,
            "padding": null,
            "right": null,
            "top": null,
            "visibility": null,
            "width": null
          }
        },
        "62fa1d5405db4f31aff584e7281d3937": {
          "model_module": "@jupyter-widgets/base",
          "model_module_version": "1.2.0",
          "model_name": "LayoutModel",
          "state": {
            "_model_module": "@jupyter-widgets/base",
            "_model_module_version": "1.2.0",
            "_model_name": "LayoutModel",
            "_view_count": null,
            "_view_module": "@jupyter-widgets/base",
            "_view_module_version": "1.2.0",
            "_view_name": "LayoutView",
            "align_content": null,
            "align_items": null,
            "align_self": null,
            "border": null,
            "bottom": null,
            "display": null,
            "flex": null,
            "flex_flow": null,
            "grid_area": null,
            "grid_auto_columns": null,
            "grid_auto_flow": null,
            "grid_auto_rows": null,
            "grid_column": null,
            "grid_gap": null,
            "grid_row": null,
            "grid_template_areas": null,
            "grid_template_columns": null,
            "grid_template_rows": null,
            "height": null,
            "justify_content": null,
            "justify_items": null,
            "left": null,
            "margin": null,
            "max_height": null,
            "max_width": null,
            "min_height": null,
            "min_width": null,
            "object_fit": null,
            "object_position": null,
            "order": null,
            "overflow": null,
            "overflow_x": null,
            "overflow_y": null,
            "padding": null,
            "right": null,
            "top": null,
            "visibility": null,
            "width": null
          }
        },
        "6e5029a96c224ab3bd2ebb6e2ca765fb": {
          "model_module": "@jupyter-widgets/controls",
          "model_module_version": "1.5.0",
          "model_name": "HTMLModel",
          "state": {
            "_dom_classes": [],
            "_model_module": "@jupyter-widgets/controls",
            "_model_module_version": "1.5.0",
            "_model_name": "HTMLModel",
            "_view_count": null,
            "_view_module": "@jupyter-widgets/controls",
            "_view_module_version": "1.5.0",
            "_view_name": "HTMLView",
            "description": "",
            "description_tooltip": null,
            "layout": "IPY_MODEL_c5e5e9a24b0d4d69a01da3c0fb23dc0b",
            "placeholder": "​",
            "style": "IPY_MODEL_359d42e11307486c8cc2f55e8b56ca9f",
            "value": " 2.60M/2.60M [00:00&lt;00:00, 85.3MB/s]"
          }
        },
        "75c98d5a0fdb41969c9c86174eda7bcd": {
          "model_module": "@jupyter-widgets/base",
          "model_module_version": "1.2.0",
          "model_name": "LayoutModel",
          "state": {
            "_model_module": "@jupyter-widgets/base",
            "_model_module_version": "1.2.0",
            "_model_name": "LayoutModel",
            "_view_count": null,
            "_view_module": "@jupyter-widgets/base",
            "_view_module_version": "1.2.0",
            "_view_name": "LayoutView",
            "align_content": null,
            "align_items": null,
            "align_self": null,
            "border": null,
            "bottom": null,
            "display": null,
            "flex": null,
            "flex_flow": null,
            "grid_area": null,
            "grid_auto_columns": null,
            "grid_auto_flow": null,
            "grid_auto_rows": null,
            "grid_column": null,
            "grid_gap": null,
            "grid_row": null,
            "grid_template_areas": null,
            "grid_template_columns": null,
            "grid_template_rows": null,
            "height": null,
            "justify_content": null,
            "justify_items": null,
            "left": null,
            "margin": null,
            "max_height": null,
            "max_width": null,
            "min_height": null,
            "min_width": null,
            "object_fit": null,
            "object_position": null,
            "order": null,
            "overflow": null,
            "overflow_x": null,
            "overflow_y": null,
            "padding": null,
            "right": null,
            "top": null,
            "visibility": null,
            "width": null
          }
        },
        "8039b76477a843df8c540dad25fabd0d": {
          "model_module": "@jupyter-widgets/controls",
          "model_module_version": "1.5.0",
          "model_name": "FloatProgressModel",
          "state": {
            "_dom_classes": [],
            "_model_module": "@jupyter-widgets/controls",
            "_model_module_version": "1.5.0",
            "_model_name": "FloatProgressModel",
            "_view_count": null,
            "_view_module": "@jupyter-widgets/controls",
            "_view_module_version": "1.5.0",
            "_view_name": "ProgressView",
            "bar_style": "success",
            "description": "",
            "description_tooltip": null,
            "layout": "IPY_MODEL_d967828686724fd3ad783b628031cf09",
            "max": 6971,
            "min": 0,
            "orientation": "horizontal",
            "style": "IPY_MODEL_139fb73dd44f4954a7f8781162eae92c",
            "value": 6971
          }
        },
        "843fa77d23f74e6db2d61f0d5908e4dc": {
          "model_module": "@jupyter-widgets/controls",
          "model_module_version": "1.5.0",
          "model_name": "HBoxModel",
          "state": {
            "_dom_classes": [],
            "_model_module": "@jupyter-widgets/controls",
            "_model_module_version": "1.5.0",
            "_model_name": "HBoxModel",
            "_view_count": null,
            "_view_module": "@jupyter-widgets/controls",
            "_view_module_version": "1.5.0",
            "_view_name": "HBoxView",
            "box_style": "",
            "children": [
              "IPY_MODEL_3ed983a2b40f45ec9c5ecf40a5953ced",
              "IPY_MODEL_8039b76477a843df8c540dad25fabd0d",
              "IPY_MODEL_fb25a8823b3849528473baa50973ae1b"
            ],
            "layout": "IPY_MODEL_f1b33928d482451dabddfe5a7e2f7732"
          }
        },
        "8538960c5f3e40d6ba4da12f77f97efa": {
          "model_module": "@jupyter-widgets/base",
          "model_module_version": "1.2.0",
          "model_name": "LayoutModel",
          "state": {
            "_model_module": "@jupyter-widgets/base",
            "_model_module_version": "1.2.0",
            "_model_name": "LayoutModel",
            "_view_count": null,
            "_view_module": "@jupyter-widgets/base",
            "_view_module_version": "1.2.0",
            "_view_name": "LayoutView",
            "align_content": null,
            "align_items": null,
            "align_self": null,
            "border": null,
            "bottom": null,
            "display": null,
            "flex": null,
            "flex_flow": null,
            "grid_area": null,
            "grid_auto_columns": null,
            "grid_auto_flow": null,
            "grid_auto_rows": null,
            "grid_column": null,
            "grid_gap": null,
            "grid_row": null,
            "grid_template_areas": null,
            "grid_template_columns": null,
            "grid_template_rows": null,
            "height": null,
            "justify_content": null,
            "justify_items": null,
            "left": null,
            "margin": null,
            "max_height": null,
            "max_width": null,
            "min_height": null,
            "min_width": null,
            "object_fit": null,
            "object_position": null,
            "order": null,
            "overflow": null,
            "overflow_x": null,
            "overflow_y": null,
            "padding": null,
            "right": null,
            "top": null,
            "visibility": null,
            "width": null
          }
        },
        "889f9f4124b74419aad16db6c4fd9d89": {
          "model_module": "@jupyter-widgets/controls",
          "model_module_version": "1.5.0",
          "model_name": "FloatProgressModel",
          "state": {
            "_dom_classes": [],
            "_model_module": "@jupyter-widgets/controls",
            "_model_module_version": "1.5.0",
            "_model_name": "FloatProgressModel",
            "_view_count": null,
            "_view_module": "@jupyter-widgets/controls",
            "_view_module_version": "1.5.0",
            "_view_name": "ProgressView",
            "bar_style": "success",
            "description": "",
            "description_tooltip": null,
            "layout": "IPY_MODEL_49de8151f88149d083500230f8a313c9",
            "max": 15561616,
            "min": 0,
            "orientation": "horizontal",
            "style": "IPY_MODEL_8d1857e3e36848beaf87d19909709d9b",
            "value": 15561616
          }
        },
        "8d1857e3e36848beaf87d19909709d9b": {
          "model_module": "@jupyter-widgets/controls",
          "model_module_version": "1.5.0",
          "model_name": "ProgressStyleModel",
          "state": {
            "_model_module": "@jupyter-widgets/controls",
            "_model_module_version": "1.5.0",
            "_model_name": "ProgressStyleModel",
            "_view_count": null,
            "_view_module": "@jupyter-widgets/base",
            "_view_module_version": "1.2.0",
            "_view_name": "StyleView",
            "bar_color": null,
            "description_width": ""
          }
        },
        "928be349538d4b7285edeb6af93c52d5": {
          "model_module": "@jupyter-widgets/controls",
          "model_module_version": "1.5.0",
          "model_name": "DescriptionStyleModel",
          "state": {
            "_model_module": "@jupyter-widgets/controls",
            "_model_module_version": "1.5.0",
            "_model_name": "DescriptionStyleModel",
            "_view_count": null,
            "_view_module": "@jupyter-widgets/base",
            "_view_module_version": "1.2.0",
            "_view_name": "StyleView",
            "description_width": ""
          }
        },
        "97c9a6b7d0984ce8bd1b734bf67385fa": {
          "model_module": "@jupyter-widgets/controls",
          "model_module_version": "1.5.0",
          "model_name": "DescriptionStyleModel",
          "state": {
            "_model_module": "@jupyter-widgets/controls",
            "_model_module_version": "1.5.0",
            "_model_name": "DescriptionStyleModel",
            "_view_count": null,
            "_view_module": "@jupyter-widgets/base",
            "_view_module_version": "1.2.0",
            "_view_name": "StyleView",
            "description_width": ""
          }
        },
        "9a6ffaa89f4e436b957f088540548a57": {
          "model_module": "@jupyter-widgets/controls",
          "model_module_version": "1.5.0",
          "model_name": "HTMLModel",
          "state": {
            "_dom_classes": [],
            "_model_module": "@jupyter-widgets/controls",
            "_model_module_version": "1.5.0",
            "_model_name": "HTMLModel",
            "_view_count": null,
            "_view_module": "@jupyter-widgets/controls",
            "_view_module_version": "1.5.0",
            "_view_name": "HTMLView",
            "description": "",
            "description_tooltip": null,
            "layout": "IPY_MODEL_b3da39a1c38849e9888b52e6c631ac3a",
            "placeholder": "​",
            "style": "IPY_MODEL_49703b5ae91d4ca0806ff58fb2af7d4e",
            "value": " 60000/60000 [00:00&lt;00:00, 109195.32 examples/s]"
          }
        },
        "9ad7191afd4c4243a82d46819861223a": {
          "model_module": "@jupyter-widgets/controls",
          "model_module_version": "1.5.0",
          "model_name": "HTMLModel",
          "state": {
            "_dom_classes": [],
            "_model_module": "@jupyter-widgets/controls",
            "_model_module_version": "1.5.0",
            "_model_name": "HTMLModel",
            "_view_count": null,
            "_view_module": "@jupyter-widgets/controls",
            "_view_module_version": "1.5.0",
            "_view_name": "HTMLView",
            "description": "",
            "description_tooltip": null,
            "layout": "IPY_MODEL_3554592923ca4db98b63e43837e0f264",
            "placeholder": "​",
            "style": "IPY_MODEL_007fad4f58ed4c65879f497c4ddd7976",
            "value": "Generating train split: 100%"
          }
        },
        "9dcfada984454ece908a65ccc2befdaa": {
          "model_module": "@jupyter-widgets/controls",
          "model_module_version": "1.5.0",
          "model_name": "HBoxModel",
          "state": {
            "_dom_classes": [],
            "_model_module": "@jupyter-widgets/controls",
            "_model_module_version": "1.5.0",
            "_model_name": "HBoxModel",
            "_view_count": null,
            "_view_module": "@jupyter-widgets/controls",
            "_view_module_version": "1.5.0",
            "_view_name": "HBoxView",
            "box_style": "",
            "children": [
              "IPY_MODEL_1a468c0236eb48ebb4ccca6e0dd45f6d",
              "IPY_MODEL_afc8fbc7ce844579b3214b4dc60c89c9",
              "IPY_MODEL_085cea0a2bfe40f5b99120905def3ad2"
            ],
            "layout": "IPY_MODEL_c21f7a6f9efd4958ac3bdf60cb2ce5b8"
          }
        },
        "a467a55e051a46469e5ef5186d0ba595": {
          "model_module": "@jupyter-widgets/controls",
          "model_module_version": "1.5.0",
          "model_name": "DescriptionStyleModel",
          "state": {
            "_model_module": "@jupyter-widgets/controls",
            "_model_module_version": "1.5.0",
            "_model_name": "DescriptionStyleModel",
            "_view_count": null,
            "_view_module": "@jupyter-widgets/base",
            "_view_module_version": "1.2.0",
            "_view_name": "StyleView",
            "description_width": ""
          }
        },
        "a62dd493251e446daff32fcc54a31f95": {
          "model_module": "@jupyter-widgets/controls",
          "model_module_version": "1.5.0",
          "model_name": "HTMLModel",
          "state": {
            "_dom_classes": [],
            "_model_module": "@jupyter-widgets/controls",
            "_model_module_version": "1.5.0",
            "_model_name": "HTMLModel",
            "_view_count": null,
            "_view_module": "@jupyter-widgets/controls",
            "_view_module_version": "1.5.0",
            "_view_name": "HTMLView",
            "description": "",
            "description_tooltip": null,
            "layout": "IPY_MODEL_0d54d8b3224e40ee9b247cfd97d1c90a",
            "placeholder": "​",
            "style": "IPY_MODEL_14500affb4bb4d1883b5891a1e01ce63",
            "value": "train-00000-of-00001.parquet: 100%"
          }
        },
        "acbda4b8a0a843bd95cd0dc62127c694": {
          "model_module": "@jupyter-widgets/base",
          "model_module_version": "1.2.0",
          "model_name": "LayoutModel",
          "state": {
            "_model_module": "@jupyter-widgets/base",
            "_model_module_version": "1.2.0",
            "_model_name": "LayoutModel",
            "_view_count": null,
            "_view_module": "@jupyter-widgets/base",
            "_view_module_version": "1.2.0",
            "_view_name": "LayoutView",
            "align_content": null,
            "align_items": null,
            "align_self": null,
            "border": null,
            "bottom": null,
            "display": null,
            "flex": null,
            "flex_flow": null,
            "grid_area": null,
            "grid_auto_columns": null,
            "grid_auto_flow": null,
            "grid_auto_rows": null,
            "grid_column": null,
            "grid_gap": null,
            "grid_row": null,
            "grid_template_areas": null,
            "grid_template_columns": null,
            "grid_template_rows": null,
            "height": null,
            "justify_content": null,
            "justify_items": null,
            "left": null,
            "margin": null,
            "max_height": null,
            "max_width": null,
            "min_height": null,
            "min_width": null,
            "object_fit": null,
            "object_position": null,
            "order": null,
            "overflow": null,
            "overflow_x": null,
            "overflow_y": null,
            "padding": null,
            "right": null,
            "top": null,
            "visibility": null,
            "width": null
          }
        },
        "afc8fbc7ce844579b3214b4dc60c89c9": {
          "model_module": "@jupyter-widgets/controls",
          "model_module_version": "1.5.0",
          "model_name": "FloatProgressModel",
          "state": {
            "_dom_classes": [],
            "_model_module": "@jupyter-widgets/controls",
            "_model_module_version": "1.5.0",
            "_model_name": "FloatProgressModel",
            "_view_count": null,
            "_view_module": "@jupyter-widgets/controls",
            "_view_module_version": "1.5.0",
            "_view_name": "ProgressView",
            "bar_style": "success",
            "description": "",
            "description_tooltip": null,
            "layout": "IPY_MODEL_09422368b71141709f1dbbd567597665",
            "max": 10000,
            "min": 0,
            "orientation": "horizontal",
            "style": "IPY_MODEL_1e01865cbb574ca2a7000b6e6b88463d",
            "value": 10000
          }
        },
        "b3da39a1c38849e9888b52e6c631ac3a": {
          "model_module": "@jupyter-widgets/base",
          "model_module_version": "1.2.0",
          "model_name": "LayoutModel",
          "state": {
            "_model_module": "@jupyter-widgets/base",
            "_model_module_version": "1.2.0",
            "_model_name": "LayoutModel",
            "_view_count": null,
            "_view_module": "@jupyter-widgets/base",
            "_view_module_version": "1.2.0",
            "_view_name": "LayoutView",
            "align_content": null,
            "align_items": null,
            "align_self": null,
            "border": null,
            "bottom": null,
            "display": null,
            "flex": null,
            "flex_flow": null,
            "grid_area": null,
            "grid_auto_columns": null,
            "grid_auto_flow": null,
            "grid_auto_rows": null,
            "grid_column": null,
            "grid_gap": null,
            "grid_row": null,
            "grid_template_areas": null,
            "grid_template_columns": null,
            "grid_template_rows": null,
            "height": null,
            "justify_content": null,
            "justify_items": null,
            "left": null,
            "margin": null,
            "max_height": null,
            "max_width": null,
            "min_height": null,
            "min_width": null,
            "object_fit": null,
            "object_position": null,
            "order": null,
            "overflow": null,
            "overflow_x": null,
            "overflow_y": null,
            "padding": null,
            "right": null,
            "top": null,
            "visibility": null,
            "width": null
          }
        },
        "c21f7a6f9efd4958ac3bdf60cb2ce5b8": {
          "model_module": "@jupyter-widgets/base",
          "model_module_version": "1.2.0",
          "model_name": "LayoutModel",
          "state": {
            "_model_module": "@jupyter-widgets/base",
            "_model_module_version": "1.2.0",
            "_model_name": "LayoutModel",
            "_view_count": null,
            "_view_module": "@jupyter-widgets/base",
            "_view_module_version": "1.2.0",
            "_view_name": "LayoutView",
            "align_content": null,
            "align_items": null,
            "align_self": null,
            "border": null,
            "bottom": null,
            "display": null,
            "flex": null,
            "flex_flow": null,
            "grid_area": null,
            "grid_auto_columns": null,
            "grid_auto_flow": null,
            "grid_auto_rows": null,
            "grid_column": null,
            "grid_gap": null,
            "grid_row": null,
            "grid_template_areas": null,
            "grid_template_columns": null,
            "grid_template_rows": null,
            "height": null,
            "justify_content": null,
            "justify_items": null,
            "left": null,
            "margin": null,
            "max_height": null,
            "max_width": null,
            "min_height": null,
            "min_width": null,
            "object_fit": null,
            "object_position": null,
            "order": null,
            "overflow": null,
            "overflow_x": null,
            "overflow_y": null,
            "padding": null,
            "right": null,
            "top": null,
            "visibility": null,
            "width": null
          }
        },
        "c5e5e9a24b0d4d69a01da3c0fb23dc0b": {
          "model_module": "@jupyter-widgets/base",
          "model_module_version": "1.2.0",
          "model_name": "LayoutModel",
          "state": {
            "_model_module": "@jupyter-widgets/base",
            "_model_module_version": "1.2.0",
            "_model_name": "LayoutModel",
            "_view_count": null,
            "_view_module": "@jupyter-widgets/base",
            "_view_module_version": "1.2.0",
            "_view_name": "LayoutView",
            "align_content": null,
            "align_items": null,
            "align_self": null,
            "border": null,
            "bottom": null,
            "display": null,
            "flex": null,
            "flex_flow": null,
            "grid_area": null,
            "grid_auto_columns": null,
            "grid_auto_flow": null,
            "grid_auto_rows": null,
            "grid_column": null,
            "grid_gap": null,
            "grid_row": null,
            "grid_template_areas": null,
            "grid_template_columns": null,
            "grid_template_rows": null,
            "height": null,
            "justify_content": null,
            "justify_items": null,
            "left": null,
            "margin": null,
            "max_height": null,
            "max_width": null,
            "min_height": null,
            "min_width": null,
            "object_fit": null,
            "object_position": null,
            "order": null,
            "overflow": null,
            "overflow_x": null,
            "overflow_y": null,
            "padding": null,
            "right": null,
            "top": null,
            "visibility": null,
            "width": null
          }
        },
        "c734d1c3f90e4a45a16a64284b1dd137": {
          "model_module": "@jupyter-widgets/controls",
          "model_module_version": "1.5.0",
          "model_name": "FloatProgressModel",
          "state": {
            "_dom_classes": [],
            "_model_module": "@jupyter-widgets/controls",
            "_model_module_version": "1.5.0",
            "_model_name": "FloatProgressModel",
            "_view_count": null,
            "_view_module": "@jupyter-widgets/controls",
            "_view_module_version": "1.5.0",
            "_view_name": "ProgressView",
            "bar_style": "success",
            "description": "",
            "description_tooltip": null,
            "layout": "IPY_MODEL_42881be3c5144a259101926e20d5a924",
            "max": 60000,
            "min": 0,
            "orientation": "horizontal",
            "style": "IPY_MODEL_1ee02523665e41eb9cd13d890b4e96c5",
            "value": 60000
          }
        },
        "d5e1e2c20dc540aeb691310905a4d753": {
          "model_module": "@jupyter-widgets/controls",
          "model_module_version": "1.5.0",
          "model_name": "HBoxModel",
          "state": {
            "_dom_classes": [],
            "_model_module": "@jupyter-widgets/controls",
            "_model_module_version": "1.5.0",
            "_model_name": "HBoxModel",
            "_view_count": null,
            "_view_module": "@jupyter-widgets/controls",
            "_view_module_version": "1.5.0",
            "_view_name": "HBoxView",
            "box_style": "",
            "children": [
              "IPY_MODEL_a62dd493251e446daff32fcc54a31f95",
              "IPY_MODEL_889f9f4124b74419aad16db6c4fd9d89",
              "IPY_MODEL_500620c7703d4acb896aa1abb9b3d4f1"
            ],
            "layout": "IPY_MODEL_75c98d5a0fdb41969c9c86174eda7bcd"
          }
        },
        "d967828686724fd3ad783b628031cf09": {
          "model_module": "@jupyter-widgets/base",
          "model_module_version": "1.2.0",
          "model_name": "LayoutModel",
          "state": {
            "_model_module": "@jupyter-widgets/base",
            "_model_module_version": "1.2.0",
            "_model_name": "LayoutModel",
            "_view_count": null,
            "_view_module": "@jupyter-widgets/base",
            "_view_module_version": "1.2.0",
            "_view_name": "LayoutView",
            "align_content": null,
            "align_items": null,
            "align_self": null,
            "border": null,
            "bottom": null,
            "display": null,
            "flex": null,
            "flex_flow": null,
            "grid_area": null,
            "grid_auto_columns": null,
            "grid_auto_flow": null,
            "grid_auto_rows": null,
            "grid_column": null,
            "grid_gap": null,
            "grid_row": null,
            "grid_template_areas": null,
            "grid_template_columns": null,
            "grid_template_rows": null,
            "height": null,
            "justify_content": null,
            "justify_items": null,
            "left": null,
            "margin": null,
            "max_height": null,
            "max_width": null,
            "min_height": null,
            "min_width": null,
            "object_fit": null,
            "object_position": null,
            "order": null,
            "overflow": null,
            "overflow_x": null,
            "overflow_y": null,
            "padding": null,
            "right": null,
            "top": null,
            "visibility": null,
            "width": null
          }
        },
        "dacac0480c5045319234719b4c465f61": {
          "model_module": "@jupyter-widgets/base",
          "model_module_version": "1.2.0",
          "model_name": "LayoutModel",
          "state": {
            "_model_module": "@jupyter-widgets/base",
            "_model_module_version": "1.2.0",
            "_model_name": "LayoutModel",
            "_view_count": null,
            "_view_module": "@jupyter-widgets/base",
            "_view_module_version": "1.2.0",
            "_view_name": "LayoutView",
            "align_content": null,
            "align_items": null,
            "align_self": null,
            "border": null,
            "bottom": null,
            "display": null,
            "flex": null,
            "flex_flow": null,
            "grid_area": null,
            "grid_auto_columns": null,
            "grid_auto_flow": null,
            "grid_auto_rows": null,
            "grid_column": null,
            "grid_gap": null,
            "grid_row": null,
            "grid_template_areas": null,
            "grid_template_columns": null,
            "grid_template_rows": null,
            "height": null,
            "justify_content": null,
            "justify_items": null,
            "left": null,
            "margin": null,
            "max_height": null,
            "max_width": null,
            "min_height": null,
            "min_width": null,
            "object_fit": null,
            "object_position": null,
            "order": null,
            "overflow": null,
            "overflow_x": null,
            "overflow_y": null,
            "padding": null,
            "right": null,
            "top": null,
            "visibility": null,
            "width": null
          }
        },
        "dd7e4fa56d7a4dcf8835f067333aa1e4": {
          "model_module": "@jupyter-widgets/controls",
          "model_module_version": "1.5.0",
          "model_name": "HBoxModel",
          "state": {
            "_dom_classes": [],
            "_model_module": "@jupyter-widgets/controls",
            "_model_module_version": "1.5.0",
            "_model_name": "HBoxModel",
            "_view_count": null,
            "_view_module": "@jupyter-widgets/controls",
            "_view_module_version": "1.5.0",
            "_view_name": "HBoxView",
            "box_style": "",
            "children": [
              "IPY_MODEL_5671805406bc410aaf19c2e781db0136",
              "IPY_MODEL_4598d9772f664b38962eb871d85ece03",
              "IPY_MODEL_6e5029a96c224ab3bd2ebb6e2ca765fb"
            ],
            "layout": "IPY_MODEL_39a69ae03ebc4a579a00969dff677197"
          }
        },
        "e125161201574224908d565f02f9f475": {
          "model_module": "@jupyter-widgets/controls",
          "model_module_version": "1.5.0",
          "model_name": "ProgressStyleModel",
          "state": {
            "_model_module": "@jupyter-widgets/controls",
            "_model_module_version": "1.5.0",
            "_model_name": "ProgressStyleModel",
            "_view_count": null,
            "_view_module": "@jupyter-widgets/base",
            "_view_module_version": "1.2.0",
            "_view_name": "StyleView",
            "bar_color": null,
            "description_width": ""
          }
        },
        "e4070b601e664a8a972ec5b63f3fd8dc": {
          "model_module": "@jupyter-widgets/controls",
          "model_module_version": "1.5.0",
          "model_name": "HBoxModel",
          "state": {
            "_dom_classes": [],
            "_model_module": "@jupyter-widgets/controls",
            "_model_module_version": "1.5.0",
            "_model_name": "HBoxModel",
            "_view_count": null,
            "_view_module": "@jupyter-widgets/controls",
            "_view_module_version": "1.5.0",
            "_view_name": "HBoxView",
            "box_style": "",
            "children": [
              "IPY_MODEL_9ad7191afd4c4243a82d46819861223a",
              "IPY_MODEL_c734d1c3f90e4a45a16a64284b1dd137",
              "IPY_MODEL_9a6ffaa89f4e436b957f088540548a57"
            ],
            "layout": "IPY_MODEL_8538960c5f3e40d6ba4da12f77f97efa"
          }
        },
        "f1b33928d482451dabddfe5a7e2f7732": {
          "model_module": "@jupyter-widgets/base",
          "model_module_version": "1.2.0",
          "model_name": "LayoutModel",
          "state": {
            "_model_module": "@jupyter-widgets/base",
            "_model_module_version": "1.2.0",
            "_model_name": "LayoutModel",
            "_view_count": null,
            "_view_module": "@jupyter-widgets/base",
            "_view_module_version": "1.2.0",
            "_view_name": "LayoutView",
            "align_content": null,
            "align_items": null,
            "align_self": null,
            "border": null,
            "bottom": null,
            "display": null,
            "flex": null,
            "flex_flow": null,
            "grid_area": null,
            "grid_auto_columns": null,
            "grid_auto_flow": null,
            "grid_auto_rows": null,
            "grid_column": null,
            "grid_gap": null,
            "grid_row": null,
            "grid_template_areas": null,
            "grid_template_columns": null,
            "grid_template_rows": null,
            "height": null,
            "justify_content": null,
            "justify_items": null,
            "left": null,
            "margin": null,
            "max_height": null,
            "max_width": null,
            "min_height": null,
            "min_width": null,
            "object_fit": null,
            "object_position": null,
            "order": null,
            "overflow": null,
            "overflow_x": null,
            "overflow_y": null,
            "padding": null,
            "right": null,
            "top": null,
            "visibility": null,
            "width": null
          }
        },
        "f271b9d5b809428aadf97a5803823351": {
          "model_module": "@jupyter-widgets/controls",
          "model_module_version": "1.5.0",
          "model_name": "DescriptionStyleModel",
          "state": {
            "_model_module": "@jupyter-widgets/controls",
            "_model_module_version": "1.5.0",
            "_model_name": "DescriptionStyleModel",
            "_view_count": null,
            "_view_module": "@jupyter-widgets/base",
            "_view_module_version": "1.2.0",
            "_view_name": "StyleView",
            "description_width": ""
          }
        },
        "fb25a8823b3849528473baa50973ae1b": {
          "model_module": "@jupyter-widgets/controls",
          "model_module_version": "1.5.0",
          "model_name": "HTMLModel",
          "state": {
            "_dom_classes": [],
            "_model_module": "@jupyter-widgets/controls",
            "_model_module_version": "1.5.0",
            "_model_name": "HTMLModel",
            "_view_count": null,
            "_view_module": "@jupyter-widgets/controls",
            "_view_module_version": "1.5.0",
            "_view_name": "HTMLView",
            "description": "",
            "description_tooltip": null,
            "layout": "IPY_MODEL_acbda4b8a0a843bd95cd0dc62127c694",
            "placeholder": "​",
            "style": "IPY_MODEL_fdeba11b239a443b8898859f2c3b91a2",
            "value": " 6.97k/6.97k [00:00&lt;00:00, 115kB/s]"
          }
        },
        "fdeba11b239a443b8898859f2c3b91a2": {
          "model_module": "@jupyter-widgets/controls",
          "model_module_version": "1.5.0",
          "model_name": "DescriptionStyleModel",
          "state": {
            "_model_module": "@jupyter-widgets/controls",
            "_model_module_version": "1.5.0",
            "_model_name": "DescriptionStyleModel",
            "_view_count": null,
            "_view_module": "@jupyter-widgets/base",
            "_view_module_version": "1.2.0",
            "_view_name": "StyleView",
            "description_width": ""
          }
        }
      }
    }
  },
  "nbformat": 4,
  "nbformat_minor": 0
}