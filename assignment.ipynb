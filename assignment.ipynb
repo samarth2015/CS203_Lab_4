{
 "cells": [
  {
   "cell_type": "markdown",
   "metadata": {},
   "source": [
    "## Task 1: Setup the dataset"
   ]
  },
  {
   "cell_type": "markdown",
   "metadata": {},
   "source": [
    "- Load the MNIST dataset using the Hugging Face datasets library.\n",
    "- Convert the image data into Numpy arrays and normalize pixel values to the range [0,1].\n",
    "- Flatten each image into a vector of 784 features.\n",
    "- Split the dataset into training and testing sets.\n",
    "- Randomly select an initially labeled dataset of 200 samples from training samples.\n",
    "- Generate an \"Unlabeled Pool,\" the Initial Dataset excluding 200 samples."
   ]
  },
  {
   "cell_type": "code",
   "execution_count": 1,
   "metadata": {},
   "outputs": [
    {
     "name": "stderr",
     "output_type": "stream",
     "text": [
      "/home/samarth/.local/lib/python3.13/site-packages/tqdm/auto.py:21: TqdmWarning: IProgress not found. Please update jupyter and ipywidgets. See https://ipywidgets.readthedocs.io/en/stable/user_install.html\n",
      "  from .autonotebook import tqdm as notebook_tqdm\n"
     ]
    }
   ],
   "source": [
    "import datasets\n",
    "import numpy as np\n",
    "import pandas as pd\n",
    "import matplotlib.pyplot as plt"
   ]
  },
  {
   "cell_type": "code",
   "execution_count": 2,
   "metadata": {},
   "outputs": [],
   "source": [
    "data = datasets.load_dataset(\"mnist\")"
   ]
  },
  {
   "cell_type": "code",
   "execution_count": 3,
   "metadata": {},
   "outputs": [],
   "source": [
    "# convert the image data into a numpy array and normalize the values from 0 to 1\n",
    "X = np.array(data['train'][\"image\"]) / 255\n",
    "y = np.array(data['train'][\"label\"])\n"
   ]
  },
  {
   "cell_type": "code",
   "execution_count": 4,
   "metadata": {},
   "outputs": [
    {
     "data": {
      "text/plain": [
       "(60000, 784)"
      ]
     },
     "execution_count": 4,
     "metadata": {},
     "output_type": "execute_result"
    }
   ],
   "source": [
    "X = X.reshape(X.shape[0], -1)\n",
    "X.shape"
   ]
  },
  {
   "cell_type": "code",
   "execution_count": 5,
   "metadata": {},
   "outputs": [],
   "source": [
    "X_test = np.array(data['test'][\"image\"]) / 255\n",
    "y_test = np.array(data['test'][\"label\"])\n",
    "\n",
    "# flatten the test data\n",
    "X_test = X_test.reshape(X_test.shape[0], -1)"
   ]
  },
  {
   "cell_type": "code",
   "execution_count": 11,
   "metadata": {},
   "outputs": [],
   "source": [
    "# randomly select 200 samples from training dataset and create a labelled dataset\n",
    "np.random.seed(45)   \n",
    "idx = np.random.choice(X.shape[0], 200, replace=False)\n",
    "X_train_labelled = X[idx]\n",
    "y_train_labelled = y[idx]"
   ]
  },
  {
   "cell_type": "code",
   "execution_count": 12,
   "metadata": {},
   "outputs": [
    {
     "data": {
      "text/plain": [
       "(59800, 784)"
      ]
     },
     "execution_count": 12,
     "metadata": {},
     "output_type": "execute_result"
    }
   ],
   "source": [
    "# create a pool of unlabelled data\n",
    "X_train_unlabelled = np.delete(X, idx, axis=0)\n",
    "y_train_unlabelled = np.delete(y, idx, axis=0)\n",
    "\n",
    "X_train_unlabelled.shape\n"
   ]
  },
  {
   "cell_type": "markdown",
   "metadata": {},
   "source": [
    "## Task 2: Implement Random Sampling for Active Learning\n"
   ]
  },
  {
   "cell_type": "markdown",
   "metadata": {},
   "source": [
    "- Train a Random Forest Classifier (you can use “from sklearn.ensemble import RandomForestClassifier”)  on the initial dataset of 200 samples.\n",
    "- Implement an active learning loop for 20 iterations:\n",
    "    - Randomly select a sample from the unlabeled pool.\n",
    "    - Get the selected sample and its true label.\n",
    "    - Add the sample and label to the labeled dataset.\n",
    "    - Remove the selected sample and label from the pool.\n",
    "    - Retrain the model on the updated dataset.\n",
    "    - Check the model's accuracy on the test set.\n",
    "    - Print accuracy after every iteration.\n"
   ]
  },
  {
   "cell_type": "code",
   "execution_count": 13,
   "metadata": {},
   "outputs": [
    {
     "data": {
      "text/plain": [
       "0.7777"
      ]
     },
     "execution_count": 13,
     "metadata": {},
     "output_type": "execute_result"
    }
   ],
   "source": [
    "from sklearn.ensemble import RandomForestClassifier\n",
    "\n",
    "# train a random forest classifier on the labelled data\n",
    "clf = RandomForestClassifier(n_estimators=100)\n",
    "clf.fit(X_train_labelled, y_train_labelled)\n",
    "\n",
    "# predict the unlabelled data\n",
    "y_prediction = clf.predict(X_test)\n",
    "\n",
    "# calculate the accuracy of the classifier\n",
    "accuracy = np.mean(y_test == y_prediction)\n",
    "accuracy"
   ]
  },
  {
   "cell_type": "code",
   "execution_count": null,
   "metadata": {},
   "outputs": [
    {
     "name": "stdout",
     "output_type": "stream",
     "text": [
      "Iteration: 0 Accuracy: 0.7705\n",
      "Iteration: 1 Accuracy: 0.7791\n",
      "Iteration: 2 Accuracy: 0.7682\n",
      "Iteration: 3 Accuracy: 0.7717\n",
      "Iteration: 4 Accuracy: 0.776\n",
      "Iteration: 5 Accuracy: 0.7863\n",
      "Iteration: 6 Accuracy: 0.7662\n",
      "Iteration: 7 Accuracy: 0.7782\n",
      "Iteration: 8 Accuracy: 0.7798\n",
      "Iteration: 9 Accuracy: 0.7889\n",
      "Iteration: 10 Accuracy: 0.7819\n",
      "Iteration: 11 Accuracy: 0.7795\n",
      "Iteration: 12 Accuracy: 0.7835\n",
      "Iteration: 13 Accuracy: 0.7845\n",
      "Iteration: 14 Accuracy: 0.7868\n",
      "Iteration: 15 Accuracy: 0.7984\n",
      "Iteration: 16 Accuracy: 0.8022\n",
      "Iteration: 17 Accuracy: 0.7971\n",
      "Iteration: 18 Accuracy: 0.7862\n",
      "Iteration: 19 Accuracy: 0.7971\n"
     ]
    }
   ],
   "source": [
    "# implementing active learning by for 20 iterations by randomly choosing the samples from the unlabelled pool.\n",
    "task1_results = []\n",
    "for i in range(20):\n",
    "    idx_curr = np.random.choice(X_train_unlabelled.shape[0], 1, replace=False) # randomly select 1 sample\n",
    "\n",
    "    # add the sample to the labelled dataset\n",
    "    X_train_labelled = np.concatenate([X_train_labelled, X_train_unlabelled[idx_curr]])\n",
    "    y_train_labelled = np.concatenate([y_train_labelled, y_train_unlabelled[idx_curr]])\n",
    "\n",
    "    # remove the sample from the unlabelled dataset\n",
    "    X_train_unlabelled = np.delete(X_train_unlabelled, idx_curr, axis=0)\n",
    "    y_train_unlabelled = np.delete(y_train_unlabelled, idx_curr, axis=0)\n",
    "\n",
    "    # retrain the classifier\n",
    "    clf.fit(X_train_labelled, y_train_labelled)\n",
    "\n",
    "    # predict the unlabelled data\n",
    "    y_prediction= clf.predict(X_test)\n",
    "\n",
    "    # calculate the accuracy of the classifier\n",
    "    accuracy = np.mean(y_test == y_prediction)\n",
    "    task1_results.append(accuracy)\n",
    "    print(f\"Iteration: {i} Accuracy: {accuracy}\")\n"
   ]
  },
  {
   "cell_type": "markdown",
   "metadata": {},
   "source": [
    "## Task 3: Implement Uncertainty Sampling for Active Learning."
   ]
  },
  {
   "cell_type": "markdown",
   "metadata": {},
   "source": [
    "- Train a Random Forest Classifier (you can use “from sklearn.ensemble import RandomForestClassifier”)  on the initial dataset of 200 samples.\n",
    "- Implement an active learning loop for 20 iterations:\n",
    "    - Compute uncertainty (Label Entropy) for each sample in the unlabeled pool using entropy.\n",
    "    - Select the sample with the highest uncertainty and query its true label.\n",
    "    - Add the queried sample to the labelled dataset and remove it from the unlabelled pool.\n",
    "    - Retrain the model and check the model's accuracy on the test set.\n",
    "    - Print accuracy after every iteration\n"
   ]
  },
  {
   "cell_type": "markdown",
   "metadata": {},
   "source": []
  },
  {
   "cell_type": "code",
   "execution_count": null,
   "metadata": {},
   "outputs": [],
   "source": [
    "np.random.seed(45)   \n",
    "idx = np.random.choice(X.shape[0], 200, replace=False)\n",
    "X_train_labelled = X[idx]\n",
    "y_train_labelled = y[idx]"
   ]
  }
 ],
 "metadata": {
  "kernelspec": {
   "display_name": "Python 3",
   "language": "python",
   "name": "python3"
  },
  "language_info": {
   "codemirror_mode": {
    "name": "ipython",
    "version": 3
   },
   "file_extension": ".py",
   "mimetype": "text/x-python",
   "name": "python",
   "nbconvert_exporter": "python",
   "pygments_lexer": "ipython3",
   "version": "3.13.1"
  }
 },
 "nbformat": 4,
 "nbformat_minor": 2
}
